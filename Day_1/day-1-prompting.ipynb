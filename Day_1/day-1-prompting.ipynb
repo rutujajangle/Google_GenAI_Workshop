{
 "cells": [
  {
   "cell_type": "markdown",
   "id": "4ceedfdf",
   "metadata": {
    "id": "jkxRSYjzA1oX",
    "papermill": {
     "duration": 0.014199,
     "end_time": "2025-04-01T22:57:34.298319",
     "exception": false,
     "start_time": "2025-04-01T22:57:34.284120",
     "status": "completed"
    },
    "tags": []
   },
   "source": [
    "##### Copyright 2025 Google LLC."
   ]
  },
  {
   "cell_type": "code",
   "execution_count": 1,
   "id": "2614a41c",
   "metadata": {
    "cellView": "form",
    "execution": {
     "iopub.execute_input": "2025-04-01T22:57:34.325902Z",
     "iopub.status.busy": "2025-04-01T22:57:34.325473Z",
     "iopub.status.idle": "2025-04-01T22:57:34.331421Z",
     "shell.execute_reply": "2025-04-01T22:57:34.330310Z"
    },
    "id": "5u5OZ2ShA3BA",
    "jupyter": {
     "source_hidden": true
    },
    "papermill": {
     "duration": 0.022794,
     "end_time": "2025-04-01T22:57:34.333618",
     "exception": false,
     "start_time": "2025-04-01T22:57:34.310824",
     "status": "completed"
    },
    "tags": []
   },
   "outputs": [],
   "source": [
    "# @title Licensed under the Apache License, Version 2.0 (the \"License\");\n",
    "# you may not use this file except in compliance with the License.\n",
    "# You may obtain a copy of the License at\n",
    "#\n",
    "# https://www.apache.org/licenses/LICENSE-2.0\n",
    "#\n",
    "# Unless required by applicable law or agreed to in writing, software\n",
    "# distributed under the License is distributed on an \"AS IS\" BASIS,\n",
    "# WITHOUT WARRANTIES OR CONDITIONS OF ANY KIND, either express or implied.\n",
    "# See the License for the specific language governing permissions and\n",
    "# limitations under the License."
   ]
  },
  {
   "cell_type": "markdown",
   "id": "44064799",
   "metadata": {
    "id": "csNPnkuCobmG",
    "papermill": {
     "duration": 0.012389,
     "end_time": "2025-04-01T22:57:34.358728",
     "exception": false,
     "start_time": "2025-04-01T22:57:34.346339",
     "status": "completed"
    },
    "tags": []
   },
   "source": [
    "# Day 1 - Prompting\n",
    "\n",
    "Welcome to the Kaggle 5-day Generative AI course!\n",
    "\n",
    "This notebook will show you how to get started with the Gemini API and walk you through some of the example prompts and techniques that you can also read about in the Prompting whitepaper. You don't need to read the whitepaper to use this notebook, but the papers will give you some theoretical context and background to complement this interactive notebook.\n",
    "\n",
    "\n",
    "## Before you begin\n",
    "\n",
    "In this notebook, you'll start exploring prompting using the Python SDK and AI Studio. For some inspiration, you might enjoy exploring some apps that have been built using the Gemini family of models. Here are a few that we like, and we think you will too.\n",
    "\n",
    "* [TextFX](https://textfx.withgoogle.com/) is a suite of AI-powered tools for rappers, made in collaboration with Lupe Fiasco,\n",
    "* [SQL Talk](https://sql-talk-r5gdynozbq-uc.a.run.app/) shows how you can talk directly to a database using the Gemini API,\n",
    "* [NotebookLM](https://notebooklm.google/) uses Gemini models to build your own personal AI research assistant.\n",
    "\n",
    "\n",
    "## For help\n",
    "\n",
    "**Common issues are covered in the [FAQ and troubleshooting guide](https://www.kaggle.com/code/markishere/day-0-troubleshooting-and-faqs).**\n",
    "\n",
    "## New for Gemini 2.0!\n",
    "\n",
    "This course material was first launched in November 2024. The AI and LLM space is moving incredibly fast, so we have made some updates to use the latest models and capabilities.\n",
    "\n",
    "* These codelabs have been updated to use the Gemini 2.0 family of models.\n",
    "* The Python SDK has been updated from `google-generativeai` to the new, unified [`google-genai`](https://pypi.org/project/google-genai) SDK.\n",
    "  * This new SDK works with both the developer Gemini API as well as Google Cloud Vertex AI, and switching is [as simple as changing some fields](https://pypi.org/project/google-genai/#:~:text=.Client%28%29-,API%20Selection,-By%20default%2C%20the).\n",
    "* New model capabilities have been added to the relevant codelabs, such as \"thinking mode\" in this lab.\n",
    "* Day 1 includes a new [Evaluation codelab](https://www.kaggle.com/code/markishere/day-1-evaluation-and-structured-output)."
   ]
  },
  {
   "attachments": {
    "d8299597-f771-4195-ac94-1d6f658ef2bd.png": {
     "image/png": "[encoded data removed]"
    },
    "ed25e346-2e15-4ab0-bc22-503eb1845e66.png": {
     "image/png": "[encoded data removed]"
    }
   },
   "cell_type": "markdown",
   "id": "824bdbb8",
   "metadata": {
    "id": "f00ea7c99e44",
    "papermill": {
     "duration": 0.012208,
     "end_time": "2025-04-01T22:57:34.383367",
     "exception": false,
     "start_time": "2025-04-01T22:57:34.371159",
     "status": "completed"
    },
    "tags": []
   },
   "source": [
    "## Get started with Kaggle notebooks\n",
    "\n",
    "If this is your first time using a Kaggle notebook, welcome! You can read about how to use Kaggle notebooks [in the docs](https://www.kaggle.com/docs/notebooks).\n",
    "\n",
    "First, you will need to phone verify your account at kaggle.com/settings.\n",
    "\n",
    "![](https://storage.googleapis.com/kaggle-media/Images/5dgai_0.png)"
   ]
  },
  {
   "cell_type": "markdown",
   "id": "9d2001d6",
   "metadata": {
    "papermill": {
     "duration": 0.012386,
     "end_time": "2025-04-01T22:57:34.407983",
     "exception": false,
     "start_time": "2025-04-01T22:57:34.395597",
     "status": "completed"
    },
    "tags": []
   },
   "source": [
    "To run this notebook, as well as the others in this course, you will need to make a copy, or fork, the notebook. Look for the `Copy and Edit` button in the top-right, and **click it** to make an editable, private copy of the notebook. It should look like this one:\n",
    "\n",
    "![Copy and Edit button](https://storage.googleapis.com/kaggle-media/Images/5gdai_sc_1.png)\n",
    "\n",
    "Your copy will now have a ▶️ **Run** button next to each code cell that you can press to execute that cell. These notebooks are expected to be run in order from top-to-bottom, but you are encouraged to add new cells, run your own code and explore. If you get stuck, you can try the `Factory reset` option in the `Run` menu, or head back to the original notebook and make a fresh copy.\n",
    "\n",
    "![Run cell button](https://storage.googleapis.com/kaggle-media/Images/5gdai_sc_2.png)\n",
    "\n",
    "### Problems?\n",
    "\n",
    "If you have any problems, head over to the [Kaggle Discord](https://discord.com/invite/kaggle), find the [`#5dgai-q-and-a` channel](https://discord.com/channels/1101210829807956100/1303438695143178251) and ask for help."
   ]
  },
  {
   "cell_type": "markdown",
   "id": "6ce4b3f1",
   "metadata": {
    "id": "ExkOXcPxtTb5",
    "papermill": {
     "duration": 0.011816,
     "end_time": "2025-04-01T22:57:34.432030",
     "exception": false,
     "start_time": "2025-04-01T22:57:34.420214",
     "status": "completed"
    },
    "tags": []
   },
   "source": [
    "## Get started with the Gemini API\n",
    "\n",
    "All of the exercises in this notebook will use the [Gemini API](https://ai.google.dev/gemini-api/) by way of the [Python SDK](https://pypi.org/project/google-genai/). Each of these prompts can be accessed directly in [Google AI Studio](https://aistudio.google.com/) too, so if you would rather use a web interface and skip the code for this activity, look for the <img src=\"https://ai.google.dev/site-assets/images/marketing/home/icon-ais.png\" style=\"height: 24px\" height=24/> AI Studio link on each prompt."
   ]
  },
  {
   "cell_type": "markdown",
   "id": "4dde43e5",
   "metadata": {
    "papermill": {
     "duration": 0.01202,
     "end_time": "2025-04-01T22:57:34.456302",
     "exception": false,
     "start_time": "2025-04-01T22:57:34.444282",
     "status": "completed"
    },
    "tags": []
   },
   "source": [
    "Next, you will need to add your API key to your Kaggle Notebook as a Kaggle User Secret.\n",
    "\n",
    "![](https://storage.googleapis.com/kaggle-media/Images/5dgai_1.png)\n",
    "![](https://storage.googleapis.com/kaggle-media/Images/5dgai_2.png)\n",
    "![](https://storage.googleapis.com/kaggle-media/Images/5dgai_3.png)\n",
    "![](https://storage.googleapis.com/kaggle-media/Images/5dgai_4.png)"
   ]
  },
  {
   "cell_type": "markdown",
   "id": "ea0f865a",
   "metadata": {
    "id": "UAjUV3BsvFXQ",
    "papermill": {
     "duration": 0.011918,
     "end_time": "2025-04-01T22:57:34.480310",
     "exception": false,
     "start_time": "2025-04-01T22:57:34.468392",
     "status": "completed"
    },
    "tags": []
   },
   "source": [
    "### Install the SDK"
   ]
  },
  {
   "cell_type": "code",
   "execution_count": 2,
   "id": "20725b3d",
   "metadata": {
    "execution": {
     "iopub.execute_input": "2025-04-01T22:57:34.506047Z",
     "iopub.status.busy": "2025-04-01T22:57:34.505673Z",
     "iopub.status.idle": "2025-04-01T22:57:52.792675Z",
     "shell.execute_reply": "2025-04-01T22:57:52.791175Z"
    },
    "id": "NzwzJFU9LqkJ",
    "papermill": {
     "duration": 18.303109,
     "end_time": "2025-04-01T22:57:52.795410",
     "exception": false,
     "start_time": "2025-04-01T22:57:34.492301",
     "status": "completed"
    },
    "tags": []
   },
   "outputs": [],
   "source": [
    "!pip uninstall -qqy jupyterlab  # Remove unused packages from Kaggle's base image that conflict\n",
    "!pip install -U -q \"google-genai==1.7.0\""
   ]
  },
  {
   "cell_type": "markdown",
   "id": "dbdf26ef",
   "metadata": {
    "papermill": {
     "duration": 0.012117,
     "end_time": "2025-04-01T22:57:52.819801",
     "exception": false,
     "start_time": "2025-04-01T22:57:52.807684",
     "status": "completed"
    },
    "tags": []
   },
   "source": [
    "Import the SDK and some helpers for rendering the output."
   ]
  },
  {
   "cell_type": "code",
   "execution_count": 3,
   "id": "06ab5f25",
   "metadata": {
    "execution": {
     "iopub.execute_input": "2025-04-01T22:57:52.846913Z",
     "iopub.status.busy": "2025-04-01T22:57:52.845914Z",
     "iopub.status.idle": "2025-04-01T22:57:54.108216Z",
     "shell.execute_reply": "2025-04-01T22:57:54.107136Z"
    },
    "id": "5DwxYIRavMST",
    "papermill": {
     "duration": 1.278744,
     "end_time": "2025-04-01T22:57:54.110653",
     "exception": false,
     "start_time": "2025-04-01T22:57:52.831909",
     "status": "completed"
    },
    "tags": []
   },
   "outputs": [],
   "source": [
    "from google import genai\n",
    "from google.genai import types\n",
    "\n",
    "from IPython.display import HTML, Markdown, display"
   ]
  },
  {
   "cell_type": "markdown",
   "id": "1d147e66",
   "metadata": {
    "papermill": {
     "duration": 0.011893,
     "end_time": "2025-04-01T22:57:54.134971",
     "exception": false,
     "start_time": "2025-04-01T22:57:54.123078",
     "status": "completed"
    },
    "tags": []
   },
   "source": [
    "Set up a retry helper. This allows you to \"Run all\" without worrying about per-minute quota."
   ]
  },
  {
   "cell_type": "code",
   "execution_count": 4,
   "id": "ebe4377d",
   "metadata": {
    "execution": {
     "iopub.execute_input": "2025-04-01T22:57:54.161704Z",
     "iopub.status.busy": "2025-04-01T22:57:54.161193Z",
     "iopub.status.idle": "2025-04-01T22:57:54.322013Z",
     "shell.execute_reply": "2025-04-01T22:57:54.320910Z"
    },
    "papermill": {
     "duration": 0.177256,
     "end_time": "2025-04-01T22:57:54.324521",
     "exception": false,
     "start_time": "2025-04-01T22:57:54.147265",
     "status": "completed"
    },
    "tags": []
   },
   "outputs": [],
   "source": [
    "from google.api_core import retry\n",
    "\n",
    "\n",
    "is_retriable = lambda e: (isinstance(e, genai.errors.APIError) and e.code in {429, 503})\n",
    "\n",
    "genai.models.Models.generate_content = retry.Retry(\n",
    "    predicate=is_retriable)(genai.models.Models.generate_content)"
   ]
  },
  {
   "cell_type": "markdown",
   "id": "b1eb8fdf",
   "metadata": {
    "id": "DNEt2BCOvOJ1",
    "papermill": {
     "duration": 0.011662,
     "end_time": "2025-04-01T22:57:54.348355",
     "exception": false,
     "start_time": "2025-04-01T22:57:54.336693",
     "status": "completed"
    },
    "tags": []
   },
   "source": [
    "### Set up your API key\n",
    "\n",
    "To run the following cell, your API key must be stored it in a [Kaggle secret](https://www.kaggle.com/discussions/product-feedback/114053) named `GOOGLE_API_KEY`.\n",
    "\n",
    "If you don't already have an API key, you can grab one from [AI Studio](https://aistudio.google.com/app/apikey). You can find [detailed instructions in the docs](https://ai.google.dev/gemini-api/docs/api-key).\n",
    "\n",
    "To make the key available through Kaggle secrets, choose `Secrets` from the `Add-ons` menu and follow the instructions to add your key or enable it for this notebook."
   ]
  },
  {
   "cell_type": "code",
   "execution_count": 5,
   "id": "7e6aaa07",
   "metadata": {
    "execution": {
     "iopub.execute_input": "2025-04-01T22:57:54.373985Z",
     "iopub.status.busy": "2025-04-01T22:57:54.373428Z",
     "iopub.status.idle": "2025-04-01T22:57:54.556018Z",
     "shell.execute_reply": "2025-04-01T22:57:54.554919Z"
    },
    "id": "SHl0bkPCvayd",
    "papermill": {
     "duration": 0.198171,
     "end_time": "2025-04-01T22:57:54.558436",
     "exception": false,
     "start_time": "2025-04-01T22:57:54.360265",
     "status": "completed"
    },
    "tags": []
   },
   "outputs": [],
   "source": [
    "from kaggle_secrets import UserSecretsClient\n",
    "\n",
    "GOOGLE_API_KEY = UserSecretsClient().get_secret(\"GOOGLE_API_KEY\")"
   ]
  },
  {
   "attachments": {
    "d2be9aab-2527-48af-b6cf-1f06cdd7c3a7.png": {
     "image/png": "[encoded data removed]"
    }
   },
   "cell_type": "markdown",
   "id": "7b7bea58",
   "metadata": {
    "id": "4e720472fd86",
    "papermill": {
     "duration": 0.011754,
     "end_time": "2025-04-01T22:57:54.582305",
     "exception": false,
     "start_time": "2025-04-01T22:57:54.570551",
     "status": "completed"
    },
    "tags": []
   },
   "source": [
    "If you received an error response along the lines of `No user secrets exist for kernel id ...`, then you need to add your API key via `Add-ons`, `Secrets` **and** enable it.\n",
    "\n",
    "![Screenshot of the checkbox to enable GOOGLE_API_KEY secret](https://storage.googleapis.com/kaggle-media/Images/5gdai_sc_3.png)"
   ]
  },
  {
   "cell_type": "markdown",
   "id": "4169a46a",
   "metadata": {
    "id": "H_YXCYIKvyZJ",
    "papermill": {
     "duration": 0.011492,
     "end_time": "2025-04-01T22:57:54.605687",
     "exception": false,
     "start_time": "2025-04-01T22:57:54.594195",
     "status": "completed"
    },
    "tags": []
   },
   "source": [
    "### Run your first prompt\n",
    "\n",
    "In this step, you will test that your API key is set up correctly by making a request.\n",
    "\n",
    "The Python SDK uses a [`Client` object](https://googleapis.github.io/python-genai/genai.html#genai.client.Client) to make requests to the API. The client lets you control which back-end to use (between the Gemini API and Vertex AI) and handles authentication (the API key).\n",
    "\n",
    "The `gemini-2.0-flash` model has been selected here.\n",
    "\n",
    "**Note**: If you see a `TransportError` on this step, you may need to **🔁 Factory reset** the notebook one time."
   ]
  },
  {
   "cell_type": "code",
   "execution_count": 6,
   "id": "13e8d28a",
   "metadata": {
    "execution": {
     "iopub.execute_input": "2025-04-01T22:57:54.631195Z",
     "iopub.status.busy": "2025-04-01T22:57:54.630498Z",
     "iopub.status.idle": "2025-04-01T22:57:57.188224Z",
     "shell.execute_reply": "2025-04-01T22:57:57.186927Z"
    },
    "id": "BV1o0PmcvyJF",
    "papermill": {
     "duration": 2.572985,
     "end_time": "2025-04-01T22:57:57.190518",
     "exception": false,
     "start_time": "2025-04-01T22:57:54.617533",
     "status": "completed"
    },
    "tags": []
   },
   "outputs": [
    {
     "name": "stdout",
     "output_type": "stream",
     "text": [
      "Okay, imagine you have a really smart puppy named Sparky.  Sparky can learn to do tricks, but he needs you to show him a LOT of times.\n",
      "\n",
      "Artificial Intelligence (AI) is like creating a Sparky, but instead of a real puppy, it's a computer program that can learn things.\n",
      "\n",
      "Here's how it works:\n",
      "\n",
      "1. **Giving Sparky Lots of Examples:** Just like you show Sparky how to sit again and again, we give the AI program tons and tons of examples.  For example, if we want the AI to recognize cats, we show it thousands and thousands of pictures of cats.\n",
      "\n",
      "2. **Sparky Starts to Notice Patterns:** After seeing so many cats, Sparky (the AI program) starts to notice patterns.  It sees that cats usually have pointy ears, whiskers, and furry bodies.\n",
      "\n",
      "3. **Sparky Can Now Do It On Its Own!:**  Now, when you show Sparky a new picture, even one it's never seen before, it can usually guess whether it's a cat or not!  It uses the patterns it learned.\n",
      "\n",
      "So, AI is like teaching a computer program to learn from examples so it can do smart things, like:\n",
      "\n",
      "*   **Recognizing faces:** Like on your mom's phone when it unlocks when she looks at it!\n",
      "*   **Answering questions:** Like when you ask Siri or Alexa something.\n",
      "*   **Playing games:** Like a video game character that gets harder to beat as you play.\n",
      "\n",
      "It's not magic, it's just really clever programming and a LOT of examples!  And just like training a real puppy, it takes a lot of time and patience.\n",
      "\n",
      "So, AI is like a really smart, really helpful, and sometimes really silly computer program that is still learning and getting better every day!\n",
      "\n"
     ]
    }
   ],
   "source": [
    "client = genai.Client(api_key=GOOGLE_API_KEY)\n",
    "\n",
    "response = client.models.generate_content(\n",
    "    model=\"gemini-2.0-flash\",\n",
    "    contents=\"Explain AI to me like I'm a kid.\")\n",
    "\n",
    "print(response.text)"
   ]
  },
  {
   "cell_type": "markdown",
   "id": "078af097",
   "metadata": {
    "id": "f60ed9d8ae41",
    "papermill": {
     "duration": 0.01196,
     "end_time": "2025-04-01T22:57:57.214945",
     "exception": false,
     "start_time": "2025-04-01T22:57:57.202985",
     "status": "completed"
    },
    "tags": []
   },
   "source": [
    "The response often comes back in markdown format, which you can render directly in this notebook."
   ]
  },
  {
   "cell_type": "code",
   "execution_count": 7,
   "id": "21b10052",
   "metadata": {
    "execution": {
     "iopub.execute_input": "2025-04-01T22:57:57.241796Z",
     "iopub.status.busy": "2025-04-01T22:57:57.241416Z",
     "iopub.status.idle": "2025-04-01T22:57:57.249020Z",
     "shell.execute_reply": "2025-04-01T22:57:57.248070Z"
    },
    "id": "c933e5e460a5",
    "papermill": {
     "duration": 0.022929,
     "end_time": "2025-04-01T22:57:57.250954",
     "exception": false,
     "start_time": "2025-04-01T22:57:57.228025",
     "status": "completed"
    },
    "tags": []
   },
   "outputs": [
    {
     "data": {
      "text/markdown": [
       "Okay, imagine you have a really smart puppy named Sparky.  Sparky can learn to do tricks, but he needs you to show him a LOT of times.\n",
       "\n",
       "Artificial Intelligence (AI) is like creating a Sparky, but instead of a real puppy, it's a computer program that can learn things.\n",
       "\n",
       "Here's how it works:\n",
       "\n",
       "1. **Giving Sparky Lots of Examples:** Just like you show Sparky how to sit again and again, we give the AI program tons and tons of examples.  For example, if we want the AI to recognize cats, we show it thousands and thousands of pictures of cats.\n",
       "\n",
       "2. **Sparky Starts to Notice Patterns:** After seeing so many cats, Sparky (the AI program) starts to notice patterns.  It sees that cats usually have pointy ears, whiskers, and furry bodies.\n",
       "\n",
       "3. **Sparky Can Now Do It On Its Own!:**  Now, when you show Sparky a new picture, even one it's never seen before, it can usually guess whether it's a cat or not!  It uses the patterns it learned.\n",
       "\n",
       "So, AI is like teaching a computer program to learn from examples so it can do smart things, like:\n",
       "\n",
       "*   **Recognizing faces:** Like on your mom's phone when it unlocks when she looks at it!\n",
       "*   **Answering questions:** Like when you ask Siri or Alexa something.\n",
       "*   **Playing games:** Like a video game character that gets harder to beat as you play.\n",
       "\n",
       "It's not magic, it's just really clever programming and a LOT of examples!  And just like training a real puppy, it takes a lot of time and patience.\n",
       "\n",
       "So, AI is like a really smart, really helpful, and sometimes really silly computer program that is still learning and getting better every day!\n"
      ],
      "text/plain": [
       "<IPython.core.display.Markdown object>"
      ]
     },
     "execution_count": 7,
     "metadata": {},
     "output_type": "execute_result"
    }
   ],
   "source": [
    "Markdown(response.text)"
   ]
  },
  {
   "cell_type": "markdown",
   "id": "ec152109",
   "metadata": {
    "id": "byx0pT9ZMW2Q",
    "papermill": {
     "duration": 0.012255,
     "end_time": "2025-04-01T22:57:57.275875",
     "exception": false,
     "start_time": "2025-04-01T22:57:57.263620",
     "status": "completed"
    },
    "tags": []
   },
   "source": [
    "### Start a chat\n",
    "\n",
    "The previous example uses a single-turn, text-in/text-out structure, but you can also set up a multi-turn chat structure too."
   ]
  },
  {
   "cell_type": "code",
   "execution_count": 8,
   "id": "deb76e87",
   "metadata": {
    "execution": {
     "iopub.execute_input": "2025-04-01T22:57:57.302397Z",
     "iopub.status.busy": "2025-04-01T22:57:57.301996Z",
     "iopub.status.idle": "2025-04-01T22:57:57.898774Z",
     "shell.execute_reply": "2025-04-01T22:57:57.897644Z"
    },
    "id": "lV_S5ZL5MidD",
    "papermill": {
     "duration": 0.612839,
     "end_time": "2025-04-01T22:57:57.901119",
     "exception": false,
     "start_time": "2025-04-01T22:57:57.288280",
     "status": "completed"
    },
    "tags": []
   },
   "outputs": [
    {
     "name": "stdout",
     "output_type": "stream",
     "text": [
      "Hello Zlork! It's nice to meet you. How can I help you today?\n",
      "\n"
     ]
    }
   ],
   "source": [
    "chat = client.chats.create(model='gemini-2.0-flash', history=[])\n",
    "response = chat.send_message('Hello! My name is Zlork.')\n",
    "print(response.text)"
   ]
  },
  {
   "cell_type": "code",
   "execution_count": 9,
   "id": "884876e8",
   "metadata": {
    "execution": {
     "iopub.execute_input": "2025-04-01T22:57:57.929087Z",
     "iopub.status.busy": "2025-04-01T22:57:57.928315Z",
     "iopub.status.idle": "2025-04-01T22:57:59.591740Z",
     "shell.execute_reply": "2025-04-01T22:57:59.590683Z"
    },
    "id": "7b0372c3c64a",
    "papermill": {
     "duration": 1.680442,
     "end_time": "2025-04-01T22:57:59.594201",
     "exception": false,
     "start_time": "2025-04-01T22:57:57.913759",
     "status": "completed"
    },
    "tags": []
   },
   "outputs": [
    {
     "name": "stdout",
     "output_type": "stream",
     "text": [
      "Okay, here's a fascinating fact about dinosaurs:\n",
      "\n",
      "**While we often picture dinosaurs as green and scaly, recent fossil discoveries have revealed that many, if not most, dinosaurs actually had feathers!**\n",
      "\n",
      "This isn't just a theory based on imagination. Scientists have found fossilized feathers preserved alongside dinosaur bones. In some cases, they've even been able to determine the color of these feathers based on the structure of melanosomes (pigment-containing organelles) preserved in the fossils.\n",
      "\n",
      "This means that some dinosaurs, like the *Sinosauropteryx* and *Microraptor*, were definitely covered in feathers. And it's likely that many other dinosaurs, especially theropods (the group that includes *Tyrannosaurus rex* and modern birds), had at least some feathery coverings, even if not all over their bodies.\n",
      "\n",
      "This discovery revolutionized our understanding of dinosaur evolution and provides strong evidence for the link between dinosaurs and birds!\n",
      "\n",
      "Did you find that interesting, Zlork? Let me know if you'd like to hear another dinosaur fact!\n",
      "\n"
     ]
    }
   ],
   "source": [
    "response = chat.send_message('Can you tell me something interesting about dinosaurs?')\n",
    "print(response.text)"
   ]
  },
  {
   "cell_type": "markdown",
   "id": "e782a403",
   "metadata": {
    "papermill": {
     "duration": 0.012741,
     "end_time": "2025-04-01T22:57:59.620084",
     "exception": false,
     "start_time": "2025-04-01T22:57:59.607343",
     "status": "completed"
    },
    "tags": []
   },
   "source": [
    "While you have the `chat` object alive, the conversation state\n",
    "persists. Confirm that by asking if it knows the user's name."
   ]
  },
  {
   "cell_type": "code",
   "execution_count": 10,
   "id": "41d4969a",
   "metadata": {
    "execution": {
     "iopub.execute_input": "2025-04-01T22:57:59.648215Z",
     "iopub.status.busy": "2025-04-01T22:57:59.647763Z",
     "iopub.status.idle": "2025-04-01T22:57:59.971111Z",
     "shell.execute_reply": "2025-04-01T22:57:59.969947Z"
    },
    "id": "d3f9591392a7",
    "papermill": {
     "duration": 0.339452,
     "end_time": "2025-04-01T22:57:59.973365",
     "exception": false,
     "start_time": "2025-04-01T22:57:59.633913",
     "status": "completed"
    },
    "tags": []
   },
   "outputs": [
    {
     "name": "stdout",
     "output_type": "stream",
     "text": [
      "Yes, Zlork, I remember your name is Zlork.\n",
      "\n"
     ]
    }
   ],
   "source": [
    "response = chat.send_message('Do you remember what my name is?')\n",
    "print(response.text)"
   ]
  },
  {
   "cell_type": "markdown",
   "id": "65baadb7",
   "metadata": {
    "id": "2KAjpr1200sW",
    "papermill": {
     "duration": 0.012103,
     "end_time": "2025-04-01T22:57:59.998206",
     "exception": false,
     "start_time": "2025-04-01T22:57:59.986103",
     "status": "completed"
    },
    "tags": []
   },
   "source": [
    "### Choose a model\n",
    "\n",
    "The Gemini API provides access to a number of models from the Gemini model family. Read about the available models and their capabilities on the [model overview page](https://ai.google.dev/gemini-api/docs/models/gemini).\n",
    "\n",
    "In this step you'll use the API to list all of the available models."
   ]
  },
  {
   "cell_type": "code",
   "execution_count": 11,
   "id": "6dee9495",
   "metadata": {
    "execution": {
     "iopub.execute_input": "2025-04-01T22:58:00.024760Z",
     "iopub.status.busy": "2025-04-01T22:58:00.024417Z",
     "iopub.status.idle": "2025-04-01T22:58:00.057023Z",
     "shell.execute_reply": "2025-04-01T22:58:00.055881Z"
    },
    "id": "uUUZa2uq2jDm",
    "papermill": {
     "duration": 0.048442,
     "end_time": "2025-04-01T22:58:00.059222",
     "exception": false,
     "start_time": "2025-04-01T22:58:00.010780",
     "status": "completed"
    },
    "tags": []
   },
   "outputs": [
    {
     "name": "stdout",
     "output_type": "stream",
     "text": [
      "models/chat-bison-001\n",
      "models/text-bison-001\n",
      "models/embedding-gecko-001\n",
      "models/gemini-1.0-pro-vision-latest\n",
      "models/gemini-pro-vision\n",
      "models/gemini-1.5-pro-latest\n",
      "models/gemini-1.5-pro-001\n",
      "models/gemini-1.5-pro-002\n",
      "models/gemini-1.5-pro\n",
      "models/gemini-1.5-flash-latest\n",
      "models/gemini-1.5-flash-001\n",
      "models/gemini-1.5-flash-001-tuning\n",
      "models/gemini-1.5-flash\n",
      "models/gemini-1.5-flash-002\n",
      "models/gemini-1.5-flash-8b\n",
      "models/gemini-1.5-flash-8b-001\n",
      "models/gemini-1.5-flash-8b-latest\n",
      "models/gemini-1.5-flash-8b-exp-0827\n",
      "models/gemini-1.5-flash-8b-exp-0924\n",
      "models/gemini-2.5-pro-exp-03-25\n",
      "models/gemini-2.0-flash-exp\n",
      "models/gemini-2.0-flash\n",
      "models/gemini-2.0-flash-001\n",
      "models/gemini-2.0-flash-exp-image-generation\n",
      "models/gemini-2.0-flash-lite-001\n",
      "models/gemini-2.0-flash-lite\n",
      "models/gemini-2.0-flash-lite-preview-02-05\n",
      "models/gemini-2.0-flash-lite-preview\n",
      "models/gemini-2.0-pro-exp\n",
      "models/gemini-2.0-pro-exp-02-05\n",
      "models/gemini-exp-1206\n",
      "models/gemini-2.0-flash-thinking-exp-01-21\n",
      "models/gemini-2.0-flash-thinking-exp\n",
      "models/gemini-2.0-flash-thinking-exp-1219\n",
      "models/learnlm-1.5-pro-experimental\n",
      "models/gemma-3-4b-it\n",
      "models/gemma-3-12b-it\n",
      "models/gemma-3-27b-it\n",
      "models/embedding-001\n",
      "models/text-embedding-004\n",
      "models/gemini-embedding-exp-03-07\n",
      "models/gemini-embedding-exp\n",
      "models/aqa\n",
      "models/imagen-3.0-generate-002\n"
     ]
    }
   ],
   "source": [
    "for model in client.models.list():\n",
    "  print(model.name)"
   ]
  },
  {
   "cell_type": "markdown",
   "id": "8af7177e",
   "metadata": {
    "id": "rN49kSI54R1v",
    "papermill": {
     "duration": 0.012549,
     "end_time": "2025-04-01T22:58:00.085058",
     "exception": false,
     "start_time": "2025-04-01T22:58:00.072509",
     "status": "completed"
    },
    "tags": []
   },
   "source": [
    "The [`models.list`](https://ai.google.dev/api/models#method:-models.list) response also returns additional information about the model's capabilities, like the token limits and supported parameters."
   ]
  },
  {
   "cell_type": "code",
   "execution_count": 12,
   "id": "1c70ffe5",
   "metadata": {
    "execution": {
     "iopub.execute_input": "2025-04-01T22:58:00.112689Z",
     "iopub.status.busy": "2025-04-01T22:58:00.112324Z",
     "iopub.status.idle": "2025-04-01T22:58:00.140646Z",
     "shell.execute_reply": "2025-04-01T22:58:00.139630Z"
    },
    "id": "k7JJ1K6j4Rl8",
    "papermill": {
     "duration": 0.044827,
     "end_time": "2025-04-01T22:58:00.142933",
     "exception": false,
     "start_time": "2025-04-01T22:58:00.098106",
     "status": "completed"
    },
    "tags": []
   },
   "outputs": [
    {
     "name": "stdout",
     "output_type": "stream",
     "text": [
      "{'description': 'Gemini 2.0 Flash',\n",
      " 'display_name': 'Gemini 2.0 Flash',\n",
      " 'input_token_limit': 1048576,\n",
      " 'name': 'models/gemini-2.0-flash',\n",
      " 'output_token_limit': 8192,\n",
      " 'supported_actions': ['generateContent', 'countTokens', 'createCachedContent'],\n",
      " 'tuned_model_info': {},\n",
      " 'version': '2.0'}\n"
     ]
    }
   ],
   "source": [
    "from pprint import pprint\n",
    "\n",
    "for model in client.models.list():\n",
    "  if model.name == 'models/gemini-2.0-flash':\n",
    "    pprint(model.to_json_dict())\n",
    "    break"
   ]
  },
  {
   "cell_type": "markdown",
   "id": "adc572e3",
   "metadata": {
    "id": "5rU_UBlZdooM",
    "papermill": {
     "duration": 0.012615,
     "end_time": "2025-04-01T22:58:00.168408",
     "exception": false,
     "start_time": "2025-04-01T22:58:00.155793",
     "status": "completed"
    },
    "tags": []
   },
   "source": [
    "## Explore generation parameters\n",
    "\n"
   ]
  },
  {
   "cell_type": "markdown",
   "id": "be1f9544",
   "metadata": {
    "id": "G7NfEizeipbW",
    "papermill": {
     "duration": 0.012416,
     "end_time": "2025-04-01T22:58:00.193686",
     "exception": false,
     "start_time": "2025-04-01T22:58:00.181270",
     "status": "completed"
    },
    "tags": []
   },
   "source": [
    "### Output length\n",
    "\n",
    "When generating text with an LLM, the output length affects cost and performance. Generating more tokens increases computation, leading to higher energy consumption, latency, and cost.\n",
    "\n",
    "To stop the model from generating tokens past a limit, you can specify the `max_output_tokens` parameter when using the Gemini API. Specifying this parameter does not influence the generation of the output tokens, so the output will not become more stylistically or textually succinct, but it will stop generating tokens once the specified length is reached. Prompt engineering may be required to generate a more complete output for your given limit."
   ]
  },
  {
   "cell_type": "code",
   "execution_count": 13,
   "id": "4316e2e7",
   "metadata": {
    "execution": {
     "iopub.execute_input": "2025-04-01T22:58:00.220936Z",
     "iopub.status.busy": "2025-04-01T22:58:00.220522Z",
     "iopub.status.idle": "2025-04-01T22:58:01.495382Z",
     "shell.execute_reply": "2025-04-01T22:58:01.494465Z"
    },
    "id": "qVf23JsIi9ma",
    "papermill": {
     "duration": 1.291154,
     "end_time": "2025-04-01T22:58:01.497694",
     "exception": false,
     "start_time": "2025-04-01T22:58:00.206540",
     "status": "completed"
    },
    "tags": []
   },
   "outputs": [
    {
     "name": "stdout",
     "output_type": "stream",
     "text": [
      "## The Humble Olive: A Cornerstone of Modern Society\n",
      "\n",
      "The olive, a small, unassuming fruit, holds a significance in modern society that belies its size. Beyond its ubiquitous presence in Mediterranean cuisine, the olive and its derived products have woven themselves into the fabric of our contemporary world, impacting our health, economy, culture, and even our understanding of sustainability. While often taken for granted, the olive's contribution deserves recognition and appreciation for the multifaceted role it plays in shaping our lives.\n",
      "\n",
      "One of the most profound impacts of the olive lies in its contribution to human health. The cornerstone of the celebrated Mediterranean diet, olives and particularly olive oil are renowned for their numerous health benefits. Rich in monounsaturated fatty acids, especially oleic acid, olive oil is proven to lower LDL (bad) cholesterol while maintaining or increasing HDL (good) cholesterol, reducing the risk of heart disease and stroke. Furthermore, olives boast a remarkable array of antioxidants, including polyphenols, which combat free radicals and protect\n"
     ]
    }
   ],
   "source": [
    "from google.genai import types\n",
    "\n",
    "short_config = types.GenerateContentConfig(max_output_tokens=200)\n",
    "\n",
    "response = client.models.generate_content(\n",
    "    model='gemini-2.0-flash',\n",
    "    config=short_config,\n",
    "    contents='Write a 1000 word essay on the importance of olives in modern society.')\n",
    "\n",
    "print(response.text)"
   ]
  },
  {
   "cell_type": "code",
   "execution_count": 14,
   "id": "ecca4861",
   "metadata": {
    "execution": {
     "iopub.execute_input": "2025-04-01T22:58:01.525491Z",
     "iopub.status.busy": "2025-04-01T22:58:01.525148Z",
     "iopub.status.idle": "2025-04-01T22:58:02.178066Z",
     "shell.execute_reply": "2025-04-01T22:58:02.176783Z"
    },
    "id": "W-3kR2F5kdMR",
    "papermill": {
     "duration": 0.669075,
     "end_time": "2025-04-01T22:58:02.180131",
     "exception": false,
     "start_time": "2025-04-01T22:58:01.511056",
     "status": "completed"
    },
    "tags": []
   },
   "outputs": [
    {
     "name": "stdout",
     "output_type": "stream",
     "text": [
      "From sun-soaked groves, a humble gift,\n",
      "The olive comes, a gentle lift.\n",
      "In oils so pure, on pizzas bright,\n",
      "A flavor burst, a pure delight.\n",
      "\n",
      "In tapenades, on salads tossed,\n",
      "No longer just a Roman cost.\n",
      "A Mediterranean heart, it beats,\n",
      "A modern food, for modern eats.\n",
      "\n"
     ]
    }
   ],
   "source": [
    "response = client.models.generate_content(\n",
    "    model='gemini-2.0-flash',\n",
    "    config=short_config,\n",
    "    contents='Write a short poem on the importance of olives in modern society.')\n",
    "\n",
    "print(response.text)"
   ]
  },
  {
   "cell_type": "markdown",
   "id": "373816ad",
   "metadata": {
    "id": "3ZhDSLB6lqqB",
    "papermill": {
     "duration": 0.012653,
     "end_time": "2025-04-01T22:58:02.205785",
     "exception": false,
     "start_time": "2025-04-01T22:58:02.193132",
     "status": "completed"
    },
    "tags": []
   },
   "source": [
    "Explore with your own prompts. Try a prompt with a restrictive output limit and then adjust the prompt to work within that limit."
   ]
  },
  {
   "cell_type": "markdown",
   "id": "4616bd5f",
   "metadata": {
    "id": "alx-WaAvir_9",
    "papermill": {
     "duration": 0.012532,
     "end_time": "2025-04-01T22:58:02.231273",
     "exception": false,
     "start_time": "2025-04-01T22:58:02.218741",
     "status": "completed"
    },
    "tags": []
   },
   "source": [
    "### Temperature\n",
    "\n",
    "Temperature controls the degree of randomness in token selection. Higher temperatures result in a higher number of candidate tokens from which the next output token is selected, and can produce more diverse results, while lower temperatures have the opposite effect, such that a temperature of 0 results in greedy decoding, selecting the most probable token at each step.\n",
    "\n",
    "Temperature doesn't provide any guarantees of randomness, but it can be used to \"nudge\" the output somewhat."
   ]
  },
  {
   "cell_type": "code",
   "execution_count": 15,
   "id": "f74a50f5",
   "metadata": {
    "execution": {
     "iopub.execute_input": "2025-04-01T22:58:02.259327Z",
     "iopub.status.busy": "2025-04-01T22:58:02.258945Z",
     "iopub.status.idle": "2025-04-01T22:58:03.388056Z",
     "shell.execute_reply": "2025-04-01T22:58:03.387081Z"
    },
    "id": "SHraGMzqnZqt",
    "papermill": {
     "duration": 1.145373,
     "end_time": "2025-04-01T22:58:03.390305",
     "exception": false,
     "start_time": "2025-04-01T22:58:02.244932",
     "status": "completed"
    },
    "tags": []
   },
   "outputs": [
    {
     "name": "stdout",
     "output_type": "stream",
     "text": [
      "Teal\n",
      " -------------------------\n",
      "Purple\n",
      " -------------------------\n",
      "Mauve\n",
      " -------------------------\n",
      "Azure\n",
      " -------------------------\n",
      "Azure\n",
      " -------------------------\n"
     ]
    }
   ],
   "source": [
    "high_temp_config = types.GenerateContentConfig(temperature=2.0)\n",
    "\n",
    "\n",
    "for _ in range(5):\n",
    "  response = client.models.generate_content(\n",
    "      model='gemini-2.0-flash',\n",
    "      config=high_temp_config,\n",
    "      contents='Pick a random colour... (respond in a single word)')\n",
    "\n",
    "  if response.text:\n",
    "    print(response.text, '-' * 25)"
   ]
  },
  {
   "cell_type": "markdown",
   "id": "e7c9b5bf",
   "metadata": {
    "id": "z3J4pCTuof7e",
    "papermill": {
     "duration": 0.013411,
     "end_time": "2025-04-01T22:58:03.417638",
     "exception": false,
     "start_time": "2025-04-01T22:58:03.404227",
     "status": "completed"
    },
    "tags": []
   },
   "source": [
    "Now try the same prompt with temperature set to zero. Note that the output is not completely deterministic, as other parameters affect token selection, but the results will tend to be more stable."
   ]
  },
  {
   "cell_type": "code",
   "execution_count": 16,
   "id": "5fc644f8",
   "metadata": {
    "execution": {
     "iopub.execute_input": "2025-04-01T22:58:03.445649Z",
     "iopub.status.busy": "2025-04-01T22:58:03.444905Z",
     "iopub.status.idle": "2025-04-01T22:58:04.512637Z",
     "shell.execute_reply": "2025-04-01T22:58:04.511441Z"
    },
    "id": "clymkWv-PfUZ",
    "papermill": {
     "duration": 1.084122,
     "end_time": "2025-04-01T22:58:04.514765",
     "exception": false,
     "start_time": "2025-04-01T22:58:03.430643",
     "status": "completed"
    },
    "tags": []
   },
   "outputs": [
    {
     "name": "stdout",
     "output_type": "stream",
     "text": [
      "Azure\n",
      " -------------------------\n",
      "Azure\n",
      " -------------------------\n",
      "Azure\n",
      " -------------------------\n",
      "Azure\n",
      " -------------------------\n",
      "Azure\n",
      " -------------------------\n"
     ]
    }
   ],
   "source": [
    "low_temp_config = types.GenerateContentConfig(temperature=0.0)\n",
    "\n",
    "for _ in range(5):\n",
    "  response = client.models.generate_content(\n",
    "      model='gemini-2.0-flash',\n",
    "      config=low_temp_config,\n",
    "      contents='Pick a random colour... (respond in a single word)')\n",
    "\n",
    "  if response.text:\n",
    "    print(response.text, '-' * 25)"
   ]
  },
  {
   "cell_type": "markdown",
   "id": "6aa30fbe",
   "metadata": {
    "id": "St5nt3vzitsZ",
    "papermill": {
     "duration": 0.013117,
     "end_time": "2025-04-01T22:58:04.541494",
     "exception": false,
     "start_time": "2025-04-01T22:58:04.528377",
     "status": "completed"
    },
    "tags": []
   },
   "source": [
    "### Top-P\n",
    "\n",
    "Like temperature, the top-P parameter is also used to control the diversity of the model's output.\n",
    "\n",
    "Top-P defines the probability threshold that, once cumulatively exceeded, tokens stop being selected as candidates. A top-P of 0 is typically equivalent to greedy decoding, and a top-P of 1 typically selects every token in the model's vocabulary.\n",
    "\n",
    "You may also see top-K referenced in LLM literature. Top-K is not configurable in the Gemini 2.0 series of models, but can be changed in older models. Top-K is a positive integer that defines the number of most probable tokens from which to select the output token. A top-K of 1 selects a single token, performing greedy decoding.\n",
    "\n",
    "\n",
    "Run this example a number of times, change the settings and observe the change in output."
   ]
  },
  {
   "cell_type": "code",
   "execution_count": 17,
   "id": "3deaaeed",
   "metadata": {
    "execution": {
     "iopub.execute_input": "2025-04-01T22:58:04.569582Z",
     "iopub.status.busy": "2025-04-01T22:58:04.569222Z",
     "iopub.status.idle": "2025-04-01T22:58:44.986564Z",
     "shell.execute_reply": "2025-04-01T22:58:44.985433Z"
    },
    "id": "lPlzpEavUV8F",
    "papermill": {
     "duration": 40.448513,
     "end_time": "2025-04-01T22:58:45.003226",
     "exception": false,
     "start_time": "2025-04-01T22:58:04.554713",
     "status": "completed"
    },
    "tags": []
   },
   "outputs": [
    {
     "name": "stdout",
     "output_type": "stream",
     "text": [
      "Jasper was, by all accounts, an indoor cat. His world consisted of sunbeams on the plush Persian rug, the rhythmic hum of the refrigerator, and the occasional, terrifying roar of the vacuum cleaner. He considered a perfectly executed nap on a pile of laundry to be the pinnacle of adventure.\n",
      "\n",
      "But Jasper harbored a secret yearning, a whisper of wildness in his furry little heart. He dreamt of birds, not just the chirping shadows on the windowpane, but real, feathery things he could chase. He dreamt of tall grass and whispering winds, not just the rustle of newspaper his human, Eleanor, read every morning.\n",
      "\n",
      "One day, Eleanor, in a moment of uncharacteristic carelessness, left the back door ajar. Jasper, basking in a sunbeam, felt a strange tug, a primal call he couldn't ignore. The scent of damp earth and blooming honeysuckle wafted in, intoxicating and irresistible. He hesitated for only a moment, then, with a flick of his tail, he was gone.\n",
      "\n",
      "The backyard was a revelation. The grass, a tickling forest, the bushes, a fragrant maze. He stalked a bumblebee, its buzzing a symphony compared to the fridge hum. He chased butterflies, their wings like stained glass against the emerald leaves. He was a hunter, a prowler, a creature unleashed.\n",
      "\n",
      "His adventure led him beyond the familiar fence, into a world of uncharted territory. He discovered a hidden garden, overflowing with roses and buzzing with life. A gruff old tabby, battle-scarred and missing an ear, watched him from atop a crumbling brick wall.\n",
      "\n",
      "\"Well, well,\" the tabby rumbled, his voice like sandpaper. \"What have we here? A pampered house cat straying into my domain.\"\n",
      "\n",
      "Jasper, emboldened by his newfound freedom, puffed out his chest. \"I am Jasper, and I am exploring.\"\n",
      "\n",
      "The tabby chuckled, a dry, raspy sound. \"Exploring? You'll be lucky if you don't get lost. This ain't no fancy house, kid. This is the real world.\"\n",
      "\n",
      "Undeterred, Jasper spent the next few hours following the tabby, who begrudgingly revealed the secrets of the neighborhood. He learned to navigate the alleyways, to decipher the language of birds, to identify the best places to scavenge for scraps. He even learned a trick or two about defending himself from a particularly aggressive squirrel.\n",
      "\n",
      "As dusk began to settle, a familiar scent drifted on the breeze - Eleanor's lavender perfume. Panic, a feeling he hadn't experienced since the vacuum cleaner incident, gripped him. He realized, with a pang, that he missed his soft rug, his full food bowl, and even Eleanor's sometimes-too-enthusiastic cuddles.\n",
      "\n",
      "He found himself back at the edge of his yard, the back door still slightly ajar. He hesitated, looking back at the tabby, who gave him a curt nod. \"Go on,\" the tabby rasped. \"You've got your own life to live.\"\n",
      "\n",
      "Jasper slipped back inside, a changed cat. He rubbed against Eleanor's legs, purring louder than he ever had before. He ate his dinner with gusto, and then, curled up on his favorite sunbeam-drenched rug, he closed his eyes.\n",
      "\n",
      "He was still an indoor cat, yes. But now, he was an indoor cat with a secret. He had tasted adventure, felt the wildness in his heart, and knew, with absolute certainty, that someday, when Eleanor wasn't looking, he would slip out that back door again. Because even the softest rug couldn't contain a spirit that had finally been unleashed.\n",
      "\n"
     ]
    }
   ],
   "source": [
    "model_config = types.GenerateContentConfig(\n",
    "    # These are the default values for gemini-2.0-flash.\n",
    "    temperature=1.0,\n",
    "    top_p=0.95,\n",
    ")\n",
    "\n",
    "story_prompt = \"You are a creative writer. Write a short story about a cat who goes on an adventure.\"\n",
    "response = client.models.generate_content(\n",
    "    model='gemini-2.0-flash',\n",
    "    config=model_config,\n",
    "    contents=story_prompt)\n",
    "\n",
    "print(response.text)"
   ]
  },
  {
   "cell_type": "markdown",
   "id": "b8150fc7",
   "metadata": {
    "id": "rMrYs1koY6DX",
    "papermill": {
     "duration": 0.013624,
     "end_time": "2025-04-01T22:58:45.031134",
     "exception": false,
     "start_time": "2025-04-01T22:58:45.017510",
     "status": "completed"
    },
    "tags": []
   },
   "source": [
    "## Prompting\n",
    "\n",
    "This section contains some prompts from the chapter for you to try out directly in the API. Try changing the text here to see how each prompt performs with different instructions, more examples, or any other changes you can think of."
   ]
  },
  {
   "cell_type": "markdown",
   "id": "1f02d25e",
   "metadata": {
    "id": "hhj_tQidZJP7",
    "papermill": {
     "duration": 0.013515,
     "end_time": "2025-04-01T22:58:45.058665",
     "exception": false,
     "start_time": "2025-04-01T22:58:45.045150",
     "status": "completed"
    },
    "tags": []
   },
   "source": [
    "### Zero-shot\n",
    "\n",
    "Zero-shot prompts are prompts that describe the request for the model directly.\n",
    "\n",
    "<table align=left>\n",
    "  <td>\n",
    "    <a target=\"_blank\" href=\"https://aistudio.google.com/prompts/1gzKKgDHwkAvexG5Up0LMtl1-6jKMKe4g\"><img src=\"https://ai.google.dev/site-assets/images/marketing/home/icon-ais.png\" style=\"height: 24px\" height=24/> Open in AI Studio</a>\n",
    "  </td>\n",
    "</table>"
   ]
  },
  {
   "cell_type": "code",
   "execution_count": 18,
   "id": "4955c14f",
   "metadata": {
    "execution": {
     "iopub.execute_input": "2025-04-01T22:58:45.088687Z",
     "iopub.status.busy": "2025-04-01T22:58:45.087709Z",
     "iopub.status.idle": "2025-04-01T22:58:45.445642Z",
     "shell.execute_reply": "2025-04-01T22:58:45.444431Z"
    },
    "id": "1_t-cwnDZzbH",
    "papermill": {
     "duration": 0.375364,
     "end_time": "2025-04-01T22:58:45.447947",
     "exception": false,
     "start_time": "2025-04-01T22:58:45.072583",
     "status": "completed"
    },
    "tags": []
   },
   "outputs": [
    {
     "name": "stdout",
     "output_type": "stream",
     "text": [
      "POSITIVE\n",
      "\n"
     ]
    }
   ],
   "source": [
    "model_config = types.GenerateContentConfig(\n",
    "    temperature=0.1,\n",
    "    top_p=1,\n",
    "    max_output_tokens=5,\n",
    ")\n",
    "\n",
    "zero_shot_prompt = \"\"\"Classify movie reviews as POSITIVE, NEUTRAL or NEGATIVE.\n",
    "Review: \"Her\" is a disturbing study revealing the direction\n",
    "humanity is headed if AI is allowed to keep evolving,\n",
    "unchecked. I wish there were more movies like this masterpiece.\n",
    "Sentiment: \"\"\"\n",
    "\n",
    "response = client.models.generate_content(\n",
    "    model='gemini-2.0-flash',\n",
    "    config=model_config,\n",
    "    contents=zero_shot_prompt)\n",
    "\n",
    "print(response.text)"
   ]
  },
  {
   "cell_type": "markdown",
   "id": "e1f9765e",
   "metadata": {
    "id": "3b5568bdeb11",
    "papermill": {
     "duration": 0.014015,
     "end_time": "2025-04-01T22:58:45.475661",
     "exception": false,
     "start_time": "2025-04-01T22:58:45.461646",
     "status": "completed"
    },
    "tags": []
   },
   "source": [
    "#### Enum mode\n",
    "\n",
    "The models are trained to generate text, and while the Gemini 2.0 models are great at following instructions, other models can sometimes produce more text than you may wish for. In the preceding example, the model will output the label, but sometimes it can include a preceding \"Sentiment\" label, and without an output token limit, it may also add explanatory text afterwards. See [this prompt in AI Studio](https://aistudio.google.com/prompts/1gzKKgDHwkAvexG5Up0LMtl1-6jKMKe4g) for an example.\n",
    "\n",
    "The Gemini API has an [Enum mode](https://github.com/google-gemini/cookbook/blob/main/quickstarts/Enum.ipynb) feature that allows you to constrain the output to a fixed set of values."
   ]
  },
  {
   "cell_type": "code",
   "execution_count": 19,
   "id": "b2745ee3",
   "metadata": {
    "execution": {
     "iopub.execute_input": "2025-04-01T22:58:45.505000Z",
     "iopub.status.busy": "2025-04-01T22:58:45.504580Z",
     "iopub.status.idle": "2025-04-01T22:58:46.036005Z",
     "shell.execute_reply": "2025-04-01T22:58:46.034838Z"
    },
    "id": "ad118a56c598",
    "papermill": {
     "duration": 0.549082,
     "end_time": "2025-04-01T22:58:46.038581",
     "exception": false,
     "start_time": "2025-04-01T22:58:45.489499",
     "status": "completed"
    },
    "tags": []
   },
   "outputs": [
    {
     "name": "stdout",
     "output_type": "stream",
     "text": [
      "positive\n"
     ]
    }
   ],
   "source": [
    "import enum\n",
    "\n",
    "class Sentiment(enum.Enum):\n",
    "    POSITIVE = \"positive\"\n",
    "    NEUTRAL = \"neutral\"\n",
    "    NEGATIVE = \"negative\"\n",
    "\n",
    "\n",
    "response = client.models.generate_content(\n",
    "    model='gemini-2.0-flash',\n",
    "    config=types.GenerateContentConfig(\n",
    "        response_mime_type=\"text/x.enum\",\n",
    "        response_schema=Sentiment\n",
    "    ),\n",
    "    contents=zero_shot_prompt)\n",
    "\n",
    "print(response.text)"
   ]
  },
  {
   "cell_type": "markdown",
   "id": "3e6d249e",
   "metadata": {
    "papermill": {
     "duration": 0.013396,
     "end_time": "2025-04-01T22:58:46.065720",
     "exception": false,
     "start_time": "2025-04-01T22:58:46.052324",
     "status": "completed"
    },
    "tags": []
   },
   "source": [
    "When using constrained output like an enum, the Python SDK will attempt to convert the model's text response into a Python object automatically. It's stored in the `response.parsed` field."
   ]
  },
  {
   "cell_type": "code",
   "execution_count": 20,
   "id": "02f20e3b",
   "metadata": {
    "execution": {
     "iopub.execute_input": "2025-04-01T22:58:46.095281Z",
     "iopub.status.busy": "2025-04-01T22:58:46.094824Z",
     "iopub.status.idle": "2025-04-01T22:58:46.100223Z",
     "shell.execute_reply": "2025-04-01T22:58:46.099061Z"
    },
    "papermill": {
     "duration": 0.022685,
     "end_time": "2025-04-01T22:58:46.102662",
     "exception": false,
     "start_time": "2025-04-01T22:58:46.079977",
     "status": "completed"
    },
    "tags": []
   },
   "outputs": [
    {
     "name": "stdout",
     "output_type": "stream",
     "text": [
      "Sentiment.POSITIVE\n",
      "<enum 'Sentiment'>\n"
     ]
    }
   ],
   "source": [
    "enum_response = response.parsed\n",
    "print(enum_response)\n",
    "print(type(enum_response))"
   ]
  },
  {
   "cell_type": "markdown",
   "id": "5e71cd28",
   "metadata": {
    "id": "0udiSwNbv45W",
    "papermill": {
     "duration": 0.013454,
     "end_time": "2025-04-01T22:58:46.129902",
     "exception": false,
     "start_time": "2025-04-01T22:58:46.116448",
     "status": "completed"
    },
    "tags": []
   },
   "source": [
    "### One-shot and few-shot\n",
    "\n",
    "Providing an example of the expected response is known as a \"one-shot\" prompt. When you provide multiple examples, it is a \"few-shot\" prompt.\n",
    "\n",
    "<table align=left>\n",
    "  <td>\n",
    "    <a target=\"_blank\" href=\"https://aistudio.google.com/prompts/1jjWkjUSoMXmLvMJ7IzADr_GxHPJVV2bg\"><img src=\"https://ai.google.dev/site-assets/images/marketing/home/icon-ais.png\" style=\"height: 24px\" height=24/> Open in AI Studio</a>\n",
    "  </td>\n",
    "</table>\n"
   ]
  },
  {
   "cell_type": "code",
   "execution_count": 21,
   "id": "f2e2616c",
   "metadata": {
    "execution": {
     "iopub.execute_input": "2025-04-01T22:58:46.159822Z",
     "iopub.status.busy": "2025-04-01T22:58:46.158707Z",
     "iopub.status.idle": "2025-04-01T22:58:46.634112Z",
     "shell.execute_reply": "2025-04-01T22:58:46.633071Z"
    },
    "id": "hd4mVUukwOKZ",
    "papermill": {
     "duration": 0.492703,
     "end_time": "2025-04-01T22:58:46.636275",
     "exception": false,
     "start_time": "2025-04-01T22:58:46.143572",
     "status": "completed"
    },
    "tags": []
   },
   "outputs": [
    {
     "name": "stdout",
     "output_type": "stream",
     "text": [
      "```json\n",
      "{\n",
      "\"size\": \"large\",\n",
      "\"type\": \"normal\",\n",
      "\"ingredients\": [\"cheese\", \"pineapple\"]\n",
      "}\n",
      "```\n",
      "\n"
     ]
    }
   ],
   "source": [
    "few_shot_prompt = \"\"\"Parse a customer's pizza order into valid JSON:\n",
    "\n",
    "EXAMPLE:\n",
    "I want a small pizza with cheese, tomato sauce, and pepperoni.\n",
    "JSON Response:\n",
    "```\n",
    "{\n",
    "\"size\": \"small\",\n",
    "\"type\": \"normal\",\n",
    "\"ingredients\": [\"cheese\", \"tomato sauce\", \"pepperoni\"]\n",
    "}\n",
    "```\n",
    "\n",
    "EXAMPLE:\n",
    "Can I get a large pizza with tomato sauce, basil and mozzarella\n",
    "JSON Response:\n",
    "```\n",
    "{\n",
    "\"size\": \"large\",\n",
    "\"type\": \"normal\",\n",
    "\"ingredients\": [\"tomato sauce\", \"basil\", \"mozzarella\"]\n",
    "}\n",
    "```\n",
    "\n",
    "ORDER:\n",
    "\"\"\"\n",
    "\n",
    "customer_order = \"Give me a large with cheese & pineapple\"\n",
    "\n",
    "response = client.models.generate_content(\n",
    "    model='gemini-2.0-flash',\n",
    "    config=types.GenerateContentConfig(\n",
    "        temperature=0.1,\n",
    "        top_p=1,\n",
    "        max_output_tokens=250,\n",
    "    ),\n",
    "    contents=[few_shot_prompt, customer_order])\n",
    "\n",
    "print(response.text)"
   ]
  },
  {
   "cell_type": "markdown",
   "id": "0082fe36",
   "metadata": {
    "id": "021293096f08",
    "papermill": {
     "duration": 0.013726,
     "end_time": "2025-04-01T22:58:46.664133",
     "exception": false,
     "start_time": "2025-04-01T22:58:46.650407",
     "status": "completed"
    },
    "tags": []
   },
   "source": [
    "#### JSON mode\n",
    "\n",
    "To provide control over the schema, and to ensure that you only receive JSON (with no other text or markdown), you can use the Gemini API's [JSON mode](https://github.com/google-gemini/cookbook/blob/main/quickstarts/JSON_mode.ipynb). This forces the model to constrain decoding, such that token selection is guided by the supplied schema."
   ]
  },
  {
   "cell_type": "code",
   "execution_count": 22,
   "id": "eda43617",
   "metadata": {
    "execution": {
     "iopub.execute_input": "2025-04-01T22:58:46.693781Z",
     "iopub.status.busy": "2025-04-01T22:58:46.693382Z",
     "iopub.status.idle": "2025-04-01T22:58:47.290553Z",
     "shell.execute_reply": "2025-04-01T22:58:47.289248Z"
    },
    "id": "50fbf0260912",
    "papermill": {
     "duration": 0.614885,
     "end_time": "2025-04-01T22:58:47.293072",
     "exception": false,
     "start_time": "2025-04-01T22:58:46.678187",
     "status": "completed"
    },
    "tags": []
   },
   "outputs": [
    {
     "name": "stdout",
     "output_type": "stream",
     "text": [
      "{\n",
      "  \"size\": \"large\",\n",
      "  \"ingredients\": [\"apple\", \"chocolate\"],\n",
      "  \"type\": \"dessert\"\n",
      "}\n"
     ]
    }
   ],
   "source": [
    "import typing_extensions as typing\n",
    "\n",
    "class PizzaOrder(typing.TypedDict):\n",
    "    size: str\n",
    "    ingredients: list[str]\n",
    "    type: str\n",
    "\n",
    "\n",
    "response = client.models.generate_content(\n",
    "    model='gemini-2.0-flash',\n",
    "    config=types.GenerateContentConfig(\n",
    "        temperature=0.1,\n",
    "        response_mime_type=\"application/json\",\n",
    "        response_schema=PizzaOrder,\n",
    "    ),\n",
    "    contents=\"Can I have a large dessert pizza with apple and chocolate\")\n",
    "\n",
    "print(response.text)"
   ]
  },
  {
   "cell_type": "markdown",
   "id": "57ceb6f5",
   "metadata": {
    "id": "4a93e338e57c",
    "papermill": {
     "duration": 0.013821,
     "end_time": "2025-04-01T22:58:47.321341",
     "exception": false,
     "start_time": "2025-04-01T22:58:47.307520",
     "status": "completed"
    },
    "tags": []
   },
   "source": [
    "### Chain of Thought (CoT)\n",
    "\n",
    "Direct prompting on LLMs can return answers quickly and (in terms of output token usage) efficiently, but they can be prone to hallucination. The answer may \"look\" correct (in terms of language and syntax) but is incorrect in terms of factuality and reasoning.\n",
    "\n",
    "Chain-of-Thought prompting is a technique where you instruct the model to output intermediate reasoning steps, and it typically gets better results, especially when combined with few-shot examples. It is worth noting that this technique doesn't completely eliminate hallucinations, and that it tends to cost more to run, due to the increased token count.\n",
    "\n",
    "Models like the Gemini family are trained to be \"chatty\" or \"thoughtful\" and will provide reasoning steps without prompting, so for this simple example you can ask the model to be more direct in the prompt to force a non-reasoning response. Try re-running this step if the model gets lucky and gets the answer correct on the first try."
   ]
  },
  {
   "cell_type": "code",
   "execution_count": 23,
   "id": "b72e3c62",
   "metadata": {
    "execution": {
     "iopub.execute_input": "2025-04-01T22:58:47.351036Z",
     "iopub.status.busy": "2025-04-01T22:58:47.350617Z",
     "iopub.status.idle": "2025-04-01T22:58:47.714570Z",
     "shell.execute_reply": "2025-04-01T22:58:47.713344Z"
    },
    "id": "5715555db1c1",
    "papermill": {
     "duration": 0.381913,
     "end_time": "2025-04-01T22:58:47.717279",
     "exception": false,
     "start_time": "2025-04-01T22:58:47.335366",
     "status": "completed"
    },
    "tags": []
   },
   "outputs": [
    {
     "name": "stdout",
     "output_type": "stream",
     "text": [
      "68\n",
      "\n"
     ]
    }
   ],
   "source": [
    "prompt = \"\"\"When I was 4 years old, my partner was 3 times my age. Now, I\n",
    "am 20 years old. How old is my partner? Return the answer directly.\"\"\"\n",
    "\n",
    "response = client.models.generate_content(\n",
    "    model='gemini-2.0-flash',\n",
    "    contents=prompt)\n",
    "\n",
    "print(response.text)"
   ]
  },
  {
   "cell_type": "markdown",
   "id": "db445ef7",
   "metadata": {
    "id": "e12b19677bfd",
    "papermill": {
     "duration": 0.018409,
     "end_time": "2025-04-01T22:58:47.750793",
     "exception": false,
     "start_time": "2025-04-01T22:58:47.732384",
     "status": "completed"
    },
    "tags": []
   },
   "source": [
    "Now try the same approach, but indicate to the model that it should \"think step by step\"."
   ]
  },
  {
   "cell_type": "code",
   "execution_count": 24,
   "id": "71b86e6a",
   "metadata": {
    "execution": {
     "iopub.execute_input": "2025-04-01T22:58:47.802718Z",
     "iopub.status.busy": "2025-04-01T22:58:47.802337Z",
     "iopub.status.idle": "2025-04-01T22:58:48.564746Z",
     "shell.execute_reply": "2025-04-01T22:58:48.563699Z"
    },
    "id": "ffd7536a481f",
    "papermill": {
     "duration": 0.797291,
     "end_time": "2025-04-01T22:58:48.567210",
     "exception": false,
     "start_time": "2025-04-01T22:58:47.769919",
     "status": "completed"
    },
    "tags": []
   },
   "outputs": [
    {
     "data": {
      "text/markdown": [
       "Here's how to solve the problem step-by-step:\n",
       "\n",
       "1.  **Find the age difference:** When you were 4, your partner was 3 times your age, meaning they were 4 * 3 = 12 years old. The age difference between you and your partner is 12 - 4 = 8 years.\n",
       "\n",
       "2.  **Calculate your partner's current age:** Since the age difference remains the same, your partner is currently 20 + 8 = 28 years old.\n",
       "\n",
       "**Answer:** Your partner is currently 28 years old."
      ],
      "text/plain": [
       "<IPython.core.display.Markdown object>"
      ]
     },
     "execution_count": 24,
     "metadata": {},
     "output_type": "execute_result"
    }
   ],
   "source": [
    "prompt = \"\"\"When I was 4 years old, my partner was 3 times my age. Now,\n",
    "I am 20 years old. How old is my partner? Let's think step by step.\"\"\"\n",
    "\n",
    "response = client.models.generate_content(\n",
    "    model='gemini-2.0-flash',\n",
    "    contents=prompt)\n",
    "\n",
    "Markdown(response.text)"
   ]
  },
  {
   "cell_type": "markdown",
   "id": "5bb7842d",
   "metadata": {
    "id": "oiLgBQJj0V53",
    "papermill": {
     "duration": 0.014234,
     "end_time": "2025-04-01T22:58:48.595973",
     "exception": false,
     "start_time": "2025-04-01T22:58:48.581739",
     "status": "completed"
    },
    "tags": []
   },
   "source": [
    "### ReAct: Reason and act\n",
    "\n",
    "In this example you will run a ReAct prompt directly in the Gemini API and perform the searching steps yourself. As this prompt follows a well-defined structure, there are frameworks available that wrap the prompt into easier-to-use APIs that make tool calls automatically, such as the LangChain example from the \"Prompting\" whitepaper.\n",
    "\n",
    "To try this out with the Wikipedia search engine, check out the [Searching Wikipedia with ReAct](https://github.com/google-gemini/cookbook/blob/main/examples/Search_Wikipedia_using_ReAct.ipynb) cookbook example.\n",
    "\n",
    "\n",
    "> Note: The prompt and in-context examples used here are from [https://github.com/ysymyth/ReAct](https://github.com/ysymyth/ReAct) which is published under an [MIT license](https://opensource.org/licenses/MIT), Copyright (c) 2023 Shunyu Yao.\n",
    "\n",
    "<table align=left>\n",
    "  <td>\n",
    "    <a target=\"_blank\" href=\"https://aistudio.google.com/prompts/18oo63Lwosd-bQ6Ay51uGogB3Wk3H8XMO\"><img src=\"https://ai.google.dev/site-assets/images/marketing/home/icon-ais.png\" style=\"height: 24px\" height=24/> Open in AI Studio</a>\n",
    "  </td>\n",
    "</table>\n"
   ]
  },
  {
   "cell_type": "code",
   "execution_count": 25,
   "id": "091d77cf",
   "metadata": {
    "execution": {
     "iopub.execute_input": "2025-04-01T22:58:48.627304Z",
     "iopub.status.busy": "2025-04-01T22:58:48.626890Z",
     "iopub.status.idle": "2025-04-01T22:58:48.634028Z",
     "shell.execute_reply": "2025-04-01T22:58:48.632903Z"
    },
    "id": "cBgyNJ5z0VSs",
    "papermill": {
     "duration": 0.025847,
     "end_time": "2025-04-01T22:58:48.636261",
     "exception": false,
     "start_time": "2025-04-01T22:58:48.610414",
     "status": "completed"
    },
    "tags": []
   },
   "outputs": [],
   "source": [
    "model_instructions = \"\"\"\n",
    "Solve a question answering task with interleaving Thought, Action, Observation steps. Thought can reason about the current situation,\n",
    "Observation is understanding relevant information from an Action's output and Action can be one of three types:\n",
    " (1) <search>entity</search>, which searches the exact entity on Wikipedia and returns the first paragraph if it exists. If not, it\n",
    "     will return some similar entities to search and you can try to search the information from those topics.\n",
    " (2) <lookup>keyword</lookup>, which returns the next sentence containing keyword in the current context. This only does exact matches,\n",
    "     so keep your searches short.\n",
    " (3) <finish>answer</finish>, which returns the answer and finishes the task.\n",
    "\"\"\"\n",
    "\n",
    "example1 = \"\"\"Question\n",
    "Musician and satirist Allie Goertz wrote a song about the \"The Simpsons\" character Milhouse, who Matt Groening named after who?\n",
    "\n",
    "Thought 1\n",
    "The question simplifies to \"The Simpsons\" character Milhouse is named after who. I only need to search Milhouse and find who it is named after.\n",
    "\n",
    "Action 1\n",
    "<search>Milhouse</search>\n",
    "\n",
    "Observation 1\n",
    "Milhouse Mussolini Van Houten is a recurring character in the Fox animated television series The Simpsons voiced by Pamela Hayden and created by Matt Groening.\n",
    "\n",
    "Thought 2\n",
    "The paragraph does not tell who Milhouse is named after, maybe I can look up \"named after\".\n",
    "\n",
    "Action 2\n",
    "<lookup>named after</lookup>\n",
    "\n",
    "Observation 2\n",
    "Milhouse was named after U.S. president Richard Nixon, whose middle name was Milhous.\n",
    "\n",
    "Thought 3\n",
    "Milhouse was named after U.S. president Richard Nixon, so the answer is Richard Nixon.\n",
    "\n",
    "Action 3\n",
    "<finish>Richard Nixon</finish>\n",
    "\"\"\"\n",
    "\n",
    "example2 = \"\"\"Question\n",
    "What is the elevation range for the area that the eastern sector of the Colorado orogeny extends into?\n",
    "\n",
    "Thought 1\n",
    "I need to search Colorado orogeny, find the area that the eastern sector of the Colorado orogeny extends into, then find the elevation range of the area.\n",
    "\n",
    "Action 1\n",
    "<search>Colorado orogeny</search>\n",
    "\n",
    "Observation 1\n",
    "The Colorado orogeny was an episode of mountain building (an orogeny) in Colorado and surrounding areas.\n",
    "\n",
    "Thought 2\n",
    "It does not mention the eastern sector. So I need to look up eastern sector.\n",
    "\n",
    "Action 2\n",
    "<lookup>eastern sector</lookup>\n",
    "\n",
    "Observation 2\n",
    "The eastern sector extends into the High Plains and is called the Central Plains orogeny.\n",
    "\n",
    "Thought 3\n",
    "The eastern sector of Colorado orogeny extends into the High Plains. So I need to search High Plains and find its elevation range.\n",
    "\n",
    "Action 3\n",
    "<search>High Plains</search>\n",
    "\n",
    "Observation 3\n",
    "High Plains refers to one of two distinct land regions\n",
    "\n",
    "Thought 4\n",
    "I need to instead search High Plains (United States).\n",
    "\n",
    "Action 4\n",
    "<search>High Plains (United States)</search>\n",
    "\n",
    "Observation 4\n",
    "The High Plains are a subregion of the Great Plains. From east to west, the High Plains rise in elevation from around 1,800 to 7,000 ft (550 to 2,130m).\n",
    "\n",
    "Thought 5\n",
    "High Plains rise in elevation from around 1,800 to 7,000 ft, so the answer is 1,800 to 7,000 ft.\n",
    "\n",
    "Action 5\n",
    "<finish>1,800 to 7,000 ft</finish>\n",
    "\"\"\"\n",
    "\n",
    "# Come up with more examples yourself, or take a look through https://github.com/ysymyth/ReAct/"
   ]
  },
  {
   "cell_type": "markdown",
   "id": "1fd6e8f9",
   "metadata": {
    "id": "C3wbfstjTgey",
    "papermill": {
     "duration": 0.01435,
     "end_time": "2025-04-01T22:58:48.665423",
     "exception": false,
     "start_time": "2025-04-01T22:58:48.651073",
     "status": "completed"
    },
    "tags": []
   },
   "source": [
    "To capture a single step at a time, while ignoring any hallucinated Observation steps, you will use `stop_sequences` to end the generation process. The steps are `Thought`, `Action`, `Observation`, in that order."
   ]
  },
  {
   "cell_type": "code",
   "execution_count": 26,
   "id": "6a7ecfbd",
   "metadata": {
    "execution": {
     "iopub.execute_input": "2025-04-01T22:58:48.697511Z",
     "iopub.status.busy": "2025-04-01T22:58:48.697038Z",
     "iopub.status.idle": "2025-04-01T22:58:49.220314Z",
     "shell.execute_reply": "2025-04-01T22:58:49.219069Z"
    },
    "id": "8mxrXRkRTdXm",
    "papermill": {
     "duration": 0.542187,
     "end_time": "2025-04-01T22:58:49.222505",
     "exception": false,
     "start_time": "2025-04-01T22:58:48.680318",
     "status": "completed"
    },
    "tags": []
   },
   "outputs": [
    {
     "name": "stdout",
     "output_type": "stream",
     "text": [
      "Thought 1\n",
      "I need to find the Transformers NLP paper, identify the authors, and then find the youngest author.\n",
      "\n",
      "Action 1\n",
      "<search>Transformers NLP paper</search>\n",
      "\n"
     ]
    }
   ],
   "source": [
    "question = \"\"\"Question\n",
    "Who was the youngest author listed on the transformers NLP paper?\n",
    "\"\"\"\n",
    "\n",
    "# You will perform the Action; so generate up to, but not including, the Observation.\n",
    "react_config = types.GenerateContentConfig(\n",
    "    stop_sequences=[\"\\nObservation\"],\n",
    "    system_instruction=model_instructions + example1 + example2,\n",
    ")\n",
    "\n",
    "# Create a chat that has the model instructions and examples pre-seeded.\n",
    "react_chat = client.chats.create(\n",
    "    model='gemini-2.0-flash',\n",
    "    config=react_config,\n",
    ")\n",
    "\n",
    "resp = react_chat.send_message(question)\n",
    "print(resp.text)"
   ]
  },
  {
   "cell_type": "markdown",
   "id": "a29932da",
   "metadata": {
    "id": "aW2PIdLbVv3l",
    "papermill": {
     "duration": 0.013617,
     "end_time": "2025-04-01T22:58:49.250274",
     "exception": false,
     "start_time": "2025-04-01T22:58:49.236657",
     "status": "completed"
    },
    "tags": []
   },
   "source": [
    "Now you can perform this research yourself and supply it back to the model."
   ]
  },
  {
   "cell_type": "code",
   "execution_count": 27,
   "id": "991da37d",
   "metadata": {
    "execution": {
     "iopub.execute_input": "2025-04-01T22:58:49.280574Z",
     "iopub.status.busy": "2025-04-01T22:58:49.279712Z",
     "iopub.status.idle": "2025-04-01T22:58:50.063638Z",
     "shell.execute_reply": "2025-04-01T22:58:50.062503Z"
    },
    "id": "mLMc0DZaV9g2",
    "papermill": {
     "duration": 0.801792,
     "end_time": "2025-04-01T22:58:50.066288",
     "exception": false,
     "start_time": "2025-04-01T22:58:49.264496",
     "status": "completed"
    },
    "tags": []
   },
   "outputs": [
    {
     "name": "stdout",
     "output_type": "stream",
     "text": [
      "Thought 2\n",
      "The authors listed are: Ashish Vaswani, Noam Shazeer, Niki Parmar, Jakob Uszkoreit, Llion Jones, Aidan N. Gomez, Lukasz Kaiser, Illia Polosukhin. I need to search each of these names to find their birthdates and then find the youngest.\n",
      "\n",
      "Action 2\n",
      "<search>Ashish Vaswani</search>\n",
      "\n"
     ]
    }
   ],
   "source": [
    "observation = \"\"\"Observation 1\n",
    "[1706.03762] Attention Is All You Need\n",
    "Ashish Vaswani, Noam Shazeer, Niki Parmar, Jakob Uszkoreit, Llion Jones, Aidan N. Gomez, Lukasz Kaiser, Illia Polosukhin\n",
    "We propose a new simple network architecture, the Transformer, based solely on attention mechanisms, dispensing with recurrence and convolutions entirely.\n",
    "\"\"\"\n",
    "resp = react_chat.send_message(observation)\n",
    "print(resp.text)"
   ]
  },
  {
   "cell_type": "markdown",
   "id": "c66a7e02",
   "metadata": {
    "id": "bo0tzf4nX6dA",
    "papermill": {
     "duration": 0.015407,
     "end_time": "2025-04-01T22:58:50.096687",
     "exception": false,
     "start_time": "2025-04-01T22:58:50.081280",
     "status": "completed"
    },
    "tags": []
   },
   "source": [
    "This process repeats until the `<finish>` action is reached. You can continue running this yourself if you like, or try the [Wikipedia example](https://github.com/google-gemini/cookbook/blob/main/examples/Search_Wikipedia_using_ReAct.ipynb) to see a fully automated ReAct system at work."
   ]
  },
  {
   "cell_type": "markdown",
   "id": "f742396e",
   "metadata": {
    "papermill": {
     "duration": 0.013772,
     "end_time": "2025-04-01T22:58:50.125205",
     "exception": false,
     "start_time": "2025-04-01T22:58:50.111433",
     "status": "completed"
    },
    "tags": []
   },
   "source": [
    "## Thinking mode\n",
    "\n",
    "The experiemental Gemini Flash 2.0 \"Thinking\" model has been trained to generate the \"thinking process\" the model goes through as part of its response. As a result, the Flash Thinking model is capable of stronger reasoning capabilities in its responses.\n",
    "\n",
    "Using a \"thinking mode\" model can provide you with high-quality responses without needing specialised prompting like the previous approaches. One reason this technique is effective is that you induce the model to generate relevant information (\"brainstorming\", or \"thoughts\") that is then used as part of the context in which the final response is generated.\n",
    "\n",
    "Note that when you use the API, you get the final response from the model, but the thoughts are not captured. To see the intermediate thoughts, try out [the thinking mode model in AI Studio](https://aistudio.google.com/prompts/new_chat?model=gemini-2.0-flash-thinking-exp-01-21).\n",
    "\n",
    "<table align=left>\n",
    "  <td>\n",
    "    <a target=\"_blank\" href=\"https://aistudio.google.com/prompts/1Z991SV7lZZZqioOiqIUPv9a9ix-ws4zk\"><img src=\"https://ai.google.dev/site-assets/images/marketing/home/icon-ais.png\" style=\"height: 24px\" height=24/> Open in AI Studio</a>\n",
    "  </td>\n",
    "</table>"
   ]
  },
  {
   "cell_type": "code",
   "execution_count": 28,
   "id": "b23ed074",
   "metadata": {
    "execution": {
     "iopub.execute_input": "2025-04-01T22:58:50.154883Z",
     "iopub.status.busy": "2025-04-01T22:58:50.154473Z",
     "iopub.status.idle": "2025-04-01T22:58:57.493533Z",
     "shell.execute_reply": "2025-04-01T22:58:57.492461Z"
    },
    "papermill": {
     "duration": 7.356492,
     "end_time": "2025-04-01T22:58:57.495665",
     "exception": false,
     "start_time": "2025-04-01T22:58:50.139173",
     "status": "completed"
    },
    "tags": []
   },
   "outputs": [
    {
     "data": {
      "text/markdown": [
       "Based on publicly available information, the youngest author listed on the \"Attention is All You Need\" (Transformers) paper appears to be **Aidan N. Gomez**.\n",
       "\n",
       "Here's why:\n",
       "\n",
       "* **Aidan N. Gomez** was a PhD student at the University of Toronto and the Vector Institute at the time of the paper's publication in 2017.  PhD students are typically younger than researchers in more senior positions at companies like Google Research.\n",
       "\n",
       "While it's difficult to definitively determine the exact age of each author at the time of publication without their specific birthdates,  being a PhD student strongly suggests that Aidan N. Gomez was likely the youngest among the authors listed. The other authors were affiliated with Google Research and Google Brain, positions usually held by more experienced researchers who have completed their PhDs and often have several years of post-doctoral or industry experience.\n",
       "\n",
       "Therefore, **Aidan N. Gomez** is the most likely answer to be the youngest author on the Transformers paper."
      ],
      "text/plain": [
       "<IPython.core.display.Markdown object>"
      ]
     },
     "execution_count": 28,
     "metadata": {},
     "output_type": "execute_result"
    }
   ],
   "source": [
    "import io\n",
    "from IPython.display import Markdown, clear_output\n",
    "\n",
    "\n",
    "response = client.models.generate_content_stream(\n",
    "    model='gemini-2.0-flash-thinking-exp',\n",
    "    contents='Who was the youngest author listed on the transformers NLP paper?',\n",
    ")\n",
    "\n",
    "buf = io.StringIO()\n",
    "for chunk in response:\n",
    "    buf.write(chunk.text)\n",
    "    # Display the response as it is streamed\n",
    "    print(chunk.text, end='')\n",
    "\n",
    "# And then render the finished response as formatted markdown.\n",
    "clear_output()\n",
    "Markdown(buf.getvalue())"
   ]
  },
  {
   "cell_type": "markdown",
   "id": "3c8fc680",
   "metadata": {
    "id": "jPiZ_eIIaVPt",
    "papermill": {
     "duration": 0.014278,
     "end_time": "2025-04-01T22:58:57.524579",
     "exception": false,
     "start_time": "2025-04-01T22:58:57.510301",
     "status": "completed"
    },
    "tags": []
   },
   "source": [
    "## Code prompting"
   ]
  },
  {
   "cell_type": "markdown",
   "id": "968c7bd2",
   "metadata": {
    "id": "ZinKamwXeR6C",
    "papermill": {
     "duration": 0.014175,
     "end_time": "2025-04-01T22:58:57.553419",
     "exception": false,
     "start_time": "2025-04-01T22:58:57.539244",
     "status": "completed"
    },
    "tags": []
   },
   "source": [
    "### Generating code\n",
    "\n",
    "The Gemini family of models can be used to generate code, configuration and scripts. Generating code can be helpful when learning to code, learning a new language or for rapidly generating a first draft.\n",
    "\n",
    "It's important to be aware that since LLMs can make mistakes, and can repeat training data, it's essential to read and test your code first, and comply with any relevant licenses.\n",
    "\n",
    "<table align=left>\n",
    "  <td>\n",
    "    <a target=\"_blank\" href=\"https://aistudio.google.com/prompts/1YX71JGtzDjXQkgdes8bP6i3oH5lCRKxv\"><img src=\"https://ai.google.dev/site-assets/images/marketing/home/icon-ais.png\" style=\"height: 24px\" height=24/> Open in AI Studio</a>\n",
    "  </td>\n",
    "</table>"
   ]
  },
  {
   "cell_type": "code",
   "execution_count": 29,
   "id": "31b136c1",
   "metadata": {
    "execution": {
     "iopub.execute_input": "2025-04-01T22:58:57.584867Z",
     "iopub.status.busy": "2025-04-01T22:58:57.584463Z",
     "iopub.status.idle": "2025-04-01T22:58:58.150407Z",
     "shell.execute_reply": "2025-04-01T22:58:58.149129Z"
    },
    "id": "fOQP9pqmeUO1",
    "papermill": {
     "duration": 0.585007,
     "end_time": "2025-04-01T22:58:58.153077",
     "exception": false,
     "start_time": "2025-04-01T22:58:57.568070",
     "status": "completed"
    },
    "tags": []
   },
   "outputs": [
    {
     "data": {
      "text/markdown": [
       "```python\n",
       "def factorial(n):\n",
       "  \"\"\"Calculate the factorial of a number n.\"\"\"\n",
       "  if n == 0:\n",
       "    return 1\n",
       "  else:\n",
       "    return n * factorial(n-1)\n",
       "```\n"
      ],
      "text/plain": [
       "<IPython.core.display.Markdown object>"
      ]
     },
     "execution_count": 29,
     "metadata": {},
     "output_type": "execute_result"
    }
   ],
   "source": [
    "# The Gemini models love to talk, so it helps to specify they stick to the code if that\n",
    "# is all that you want.\n",
    "code_prompt = \"\"\"\n",
    "Write a Python function to calculate the factorial of a number. No explanation, provide only the code.\n",
    "\"\"\"\n",
    "\n",
    "response = client.models.generate_content(\n",
    "    model='gemini-2.0-flash',\n",
    "    config=types.GenerateContentConfig(\n",
    "        temperature=1,\n",
    "        top_p=1,\n",
    "        max_output_tokens=1024,\n",
    "    ),\n",
    "    contents=code_prompt)\n",
    "\n",
    "Markdown(response.text)"
   ]
  },
  {
   "cell_type": "markdown",
   "id": "79deae39",
   "metadata": {
    "id": "wlBMWSFhgVRQ",
    "papermill": {
     "duration": 0.0146,
     "end_time": "2025-04-01T22:58:58.183106",
     "exception": false,
     "start_time": "2025-04-01T22:58:58.168506",
     "status": "completed"
    },
    "tags": []
   },
   "source": [
    "### Code execution\n",
    "\n",
    "The Gemini API can automatically run generated code too, and will return the output.\n",
    "\n",
    "<table align=left>\n",
    "  <td>\n",
    "    <a target=\"_blank\" href=\"https://aistudio.google.com/prompts/11veFr_VYEwBWcLkhNLr-maCG0G8sS_7Z\"><img src=\"https://ai.google.dev/site-assets/images/marketing/home/icon-ais.png\" style=\"height: 24px\" height=24/> Open in AI Studio</a>\n",
    "  </td>\n",
    "</table>"
   ]
  },
  {
   "cell_type": "code",
   "execution_count": 30,
   "id": "31771511",
   "metadata": {
    "execution": {
     "iopub.execute_input": "2025-04-01T22:58:58.214646Z",
     "iopub.status.busy": "2025-04-01T22:58:58.213688Z",
     "iopub.status.idle": "2025-04-01T22:59:04.301340Z",
     "shell.execute_reply": "2025-04-01T22:59:04.300109Z"
    },
    "id": "jT3OfWYfhjRL",
    "papermill": {
     "duration": 6.105816,
     "end_time": "2025-04-01T22:59:04.303715",
     "exception": false,
     "start_time": "2025-04-01T22:58:58.197899",
     "status": "completed"
    },
    "tags": []
   },
   "outputs": [
    {
     "name": "stdout",
     "output_type": "stream",
     "text": [
      "{'text': 'Okay, I understand. First, I will generate the first 14 odd prime '\n",
      "         'numbers. Remember that a prime number is a number greater than 1 '\n",
      "         'that has only two factors: 1 and itself. Also, odd numbers are not '\n",
      "         'divisible by 2. Therefore, I need to exclude 2 from the list of odd '\n",
      "         'prime numbers. Then I will sum the numbers.\\n'\n",
      "         '\\n'}\n",
      "-----\n",
      "{'executable_code': {'code': 'primes = []\\n'\n",
      "                             'number = 3\\n'\n",
      "                             'while len(primes) < 14:\\n'\n",
      "                             '    is_prime = True\\n'\n",
      "                             '    for i in range(2, int(number**0.5) + 1):\\n'\n",
      "                             '        if number % i == 0:\\n'\n",
      "                             '            is_prime = False\\n'\n",
      "                             '            break\\n'\n",
      "                             '    if is_prime:\\n'\n",
      "                             '        primes.append(number)\\n'\n",
      "                             '    number += 2\\n'\n",
      "                             '\\n'\n",
      "                             \"print(f'{primes=}')\\n\"\n",
      "                             '\\n'\n",
      "                             'import sympy\\n'\n",
      "                             'sum_of_primes = sympy.summation(primes[i], (i, '\n",
      "                             '0, len(primes)-1))\\n'\n",
      "                             \"print(f'{sum_of_primes=}')\\n\",\n",
      "                     'language': 'PYTHON'}}\n",
      "-----\n",
      "{'code_execution_result': {'outcome': 'OUTCOME_OK',\n",
      "                           'output': 'primes=[3, 5, 7, 11, 13, 17, 19, 23, 29, '\n",
      "                                     '31, 37, 41, 43, 47]\\n'}}\n",
      "-----\n",
      "{'code_execution_result': {'outcome': 'OUTCOME_FAILED',\n",
      "                           'output': 'Traceback (most recent call last):\\n'\n",
      "                                     '  File \"<string>\", line 16, in <module>\\n'\n",
      "                                     '  File \"summations.py\", line 936, in '\n",
      "                                     'summation\\n'\n",
      "                                     '    return Sum(f, *symbols, '\n",
      "                                     '**kwargs).doit(deep=False)\\n'\n",
      "                                     '           ^^^^^^^^^^^^^^^^^^^^^^^^^^\\n'\n",
      "                                     '  File \"summations.py\", line 178, in '\n",
      "                                     '__new__\\n'\n",
      "                                     '    obj = AddWithLimits.__new__(cls, '\n",
      "                                     'function, *symbols, **assumptions)\\n'\n",
      "                                     '          '\n",
      "                                     '^^^^^^^^^^^^^^^^^^^^^^^^^^^^^^^^^^^^^^^^^^^^^^^^^^^^^^^^^^^^^\\n'\n",
      "                                     '  File \"expr_with_limits.py\", line 547, '\n",
      "                                     'in __new__\\n'\n",
      "                                     '    pre = _common_new(cls, function, '\n",
      "                                     '*symbols,\\n'\n",
      "                                     '          '\n",
      "                                     '^^^^^^^^^^^^^^^^^^^^^^^^^^^^^^^^^^^^\\n'\n",
      "                                     '  File \"expr_with_limits.py\", line 57, '\n",
      "                                     'in _common_new\\n'\n",
      "                                     '    limits, orientation = '\n",
      "                                     '_process_limits(*symbols, '\n",
      "                                     'discrete=discrete)\\n'\n",
      "                                     '                          '\n",
      "                                     '^^^^^^^^^^^^^^^^^^^^^^^^^^^^^^^^^^^^^^^^^^^^\\n'\n",
      "                                     '  File \"expr_with_limits.py\", line 194, '\n",
      "                                     'in _process_limits\\n'\n",
      "                                     \"    raise ValueError('Invalid limits \"\n",
      "                                     \"given: %s' % str(symbols))\\n\"\n",
      "                                     'ValueError: Invalid limits given: ((6, '\n",
      "                                     '0, 13),)\\n'}}\n",
      "-----\n",
      "{'text': 'I apologize for the error in the previous response. I incorrectly '\n",
      "         'used `sympy.summation`. I should use the standard `sum()` function '\n",
      "         'in python.\\n'\n",
      "         '\\n'}\n",
      "-----\n",
      "{'executable_code': {'code': 'primes = []\\n'\n",
      "                             'number = 3\\n'\n",
      "                             'while len(primes) < 14:\\n'\n",
      "                             '    is_prime = True\\n'\n",
      "                             '    for i in range(2, int(number**0.5) + 1):\\n'\n",
      "                             '        if number % i == 0:\\n'\n",
      "                             '            is_prime = False\\n'\n",
      "                             '            break\\n'\n",
      "                             '    if is_prime:\\n'\n",
      "                             '        primes.append(number)\\n'\n",
      "                             '    number += 2\\n'\n",
      "                             '\\n'\n",
      "                             \"print(f'{primes=}')\\n\"\n",
      "                             '\\n'\n",
      "                             'sum_of_primes = sum(primes)\\n'\n",
      "                             \"print(f'{sum_of_primes=}')\\n\",\n",
      "                     'language': 'PYTHON'}}\n",
      "-----\n",
      "{'code_execution_result': {'outcome': 'OUTCOME_OK',\n",
      "                           'output': 'primes=[3, 5, 7, 11, 13, 17, 19, 23, 29, '\n",
      "                                     '31, 37, 41, 43, 47]\\n'\n",
      "                                     'sum_of_primes=326\\n'}}\n",
      "-----\n",
      "{'text': 'The first 14 odd prime numbers are 3, 5, 7, 11, 13, 17, 19, 23, 29, '\n",
      "         '31, 37, 41, 43, and 47. Their sum is 326.\\n'}\n",
      "-----\n"
     ]
    }
   ],
   "source": [
    "from pprint import pprint\n",
    "\n",
    "config = types.GenerateContentConfig(\n",
    "    tools=[types.Tool(code_execution=types.ToolCodeExecution())],\n",
    ")\n",
    "\n",
    "code_exec_prompt = \"\"\"\n",
    "Generate the first 14 odd prime numbers, then calculate their sum.\n",
    "\"\"\"\n",
    "\n",
    "response = client.models.generate_content(\n",
    "    model='gemini-2.0-flash',\n",
    "    config=config,\n",
    "    contents=code_exec_prompt)\n",
    "\n",
    "for part in response.candidates[0].content.parts:\n",
    "  pprint(part.to_json_dict())\n",
    "  print(\"-----\")"
   ]
  },
  {
   "cell_type": "markdown",
   "id": "ba202f3b",
   "metadata": {
    "id": "ZspT1GSkjG6d",
    "papermill": {
     "duration": 0.014505,
     "end_time": "2025-04-01T22:59:04.333045",
     "exception": false,
     "start_time": "2025-04-01T22:59:04.318540",
     "status": "completed"
    },
    "tags": []
   },
   "source": [
    "This response contains multiple parts, including an opening and closing text part that represent regular responses, an `executable_code` part that represents generated code and a `code_execution_result` part that represents the results from running the generated code.\n",
    "\n",
    "You can explore them individually."
   ]
  },
  {
   "cell_type": "code",
   "execution_count": 31,
   "id": "8c499961",
   "metadata": {
    "execution": {
     "iopub.execute_input": "2025-04-01T22:59:04.364072Z",
     "iopub.status.busy": "2025-04-01T22:59:04.363660Z",
     "iopub.status.idle": "2025-04-01T22:59:04.383705Z",
     "shell.execute_reply": "2025-04-01T22:59:04.382661Z"
    },
    "papermill": {
     "duration": 0.037931,
     "end_time": "2025-04-01T22:59:04.385670",
     "exception": false,
     "start_time": "2025-04-01T22:59:04.347739",
     "status": "completed"
    },
    "tags": []
   },
   "outputs": [
    {
     "data": {
      "text/markdown": [
       "Okay, I understand. First, I will generate the first 14 odd prime numbers. Remember that a prime number is a number greater than 1 that has only two factors: 1 and itself. Also, odd numbers are not divisible by 2. Therefore, I need to exclude 2 from the list of odd prime numbers. Then I will sum the numbers.\n",
       "\n"
      ],
      "text/plain": [
       "<IPython.core.display.Markdown object>"
      ]
     },
     "metadata": {},
     "output_type": "display_data"
    },
    {
     "data": {
      "text/markdown": [
       "```python\n",
       "primes = []\n",
       "number = 3\n",
       "while len(primes) < 14:\n",
       "    is_prime = True\n",
       "    for i in range(2, int(number**0.5) + 1):\n",
       "        if number % i == 0:\n",
       "            is_prime = False\n",
       "            break\n",
       "    if is_prime:\n",
       "        primes.append(number)\n",
       "    number += 2\n",
       "\n",
       "print(f'{primes=}')\n",
       "\n",
       "import sympy\n",
       "sum_of_primes = sympy.summation(primes[i], (i, 0, len(primes)-1))\n",
       "print(f'{sum_of_primes=}')\n",
       "\n",
       "```"
      ],
      "text/plain": [
       "<IPython.core.display.Markdown object>"
      ]
     },
     "metadata": {},
     "output_type": "display_data"
    },
    {
     "data": {
      "text/markdown": [
       "```\n",
       "primes=[3, 5, 7, 11, 13, 17, 19, 23, 29, 31, 37, 41, 43, 47]\n",
       "\n",
       "```"
      ],
      "text/plain": [
       "<IPython.core.display.Markdown object>"
      ]
     },
     "metadata": {},
     "output_type": "display_data"
    },
    {
     "data": {
      "text/markdown": [
       "## Status OUTCOME_FAILED"
      ],
      "text/plain": [
       "<IPython.core.display.Markdown object>"
      ]
     },
     "metadata": {},
     "output_type": "display_data"
    },
    {
     "data": {
      "text/markdown": [
       "```\n",
       "Traceback (most recent call last):\n",
       "  File \"<string>\", line 16, in <module>\n",
       "  File \"summations.py\", line 936, in summation\n",
       "    return Sum(f, *symbols, **kwargs).doit(deep=False)\n",
       "           ^^^^^^^^^^^^^^^^^^^^^^^^^^\n",
       "  File \"summations.py\", line 178, in __new__\n",
       "    obj = AddWithLimits.__new__(cls, function, *symbols, **assumptions)\n",
       "          ^^^^^^^^^^^^^^^^^^^^^^^^^^^^^^^^^^^^^^^^^^^^^^^^^^^^^^^^^^^^^\n",
       "  File \"expr_with_limits.py\", line 547, in __new__\n",
       "    pre = _common_new(cls, function, *symbols,\n",
       "          ^^^^^^^^^^^^^^^^^^^^^^^^^^^^^^^^^^^^\n",
       "  File \"expr_with_limits.py\", line 57, in _common_new\n",
       "    limits, orientation = _process_limits(*symbols, discrete=discrete)\n",
       "                          ^^^^^^^^^^^^^^^^^^^^^^^^^^^^^^^^^^^^^^^^^^^^\n",
       "  File \"expr_with_limits.py\", line 194, in _process_limits\n",
       "    raise ValueError('Invalid limits given: %s' % str(symbols))\n",
       "ValueError: Invalid limits given: ((6, 0, 13),)\n",
       "\n",
       "```"
      ],
      "text/plain": [
       "<IPython.core.display.Markdown object>"
      ]
     },
     "metadata": {},
     "output_type": "display_data"
    },
    {
     "data": {
      "text/markdown": [
       "I apologize for the error in the previous response. I incorrectly used `sympy.summation`. I should use the standard `sum()` function in python.\n",
       "\n"
      ],
      "text/plain": [
       "<IPython.core.display.Markdown object>"
      ]
     },
     "metadata": {},
     "output_type": "display_data"
    },
    {
     "data": {
      "text/markdown": [
       "```python\n",
       "primes = []\n",
       "number = 3\n",
       "while len(primes) < 14:\n",
       "    is_prime = True\n",
       "    for i in range(2, int(number**0.5) + 1):\n",
       "        if number % i == 0:\n",
       "            is_prime = False\n",
       "            break\n",
       "    if is_prime:\n",
       "        primes.append(number)\n",
       "    number += 2\n",
       "\n",
       "print(f'{primes=}')\n",
       "\n",
       "sum_of_primes = sum(primes)\n",
       "print(f'{sum_of_primes=}')\n",
       "\n",
       "```"
      ],
      "text/plain": [
       "<IPython.core.display.Markdown object>"
      ]
     },
     "metadata": {},
     "output_type": "display_data"
    },
    {
     "data": {
      "text/markdown": [
       "```\n",
       "primes=[3, 5, 7, 11, 13, 17, 19, 23, 29, 31, 37, 41, 43, 47]\n",
       "sum_of_primes=326\n",
       "\n",
       "```"
      ],
      "text/plain": [
       "<IPython.core.display.Markdown object>"
      ]
     },
     "metadata": {},
     "output_type": "display_data"
    },
    {
     "data": {
      "text/markdown": [
       "The first 14 odd prime numbers are 3, 5, 7, 11, 13, 17, 19, 23, 29, 31, 37, 41, 43, and 47. Their sum is 326.\n"
      ],
      "text/plain": [
       "<IPython.core.display.Markdown object>"
      ]
     },
     "metadata": {},
     "output_type": "display_data"
    }
   ],
   "source": [
    "for part in response.candidates[0].content.parts:\n",
    "    if part.text:\n",
    "        display(Markdown(part.text))\n",
    "    elif part.executable_code:\n",
    "        display(Markdown(f'```python\\n{part.executable_code.code}\\n```'))\n",
    "    elif part.code_execution_result:\n",
    "        if part.code_execution_result.outcome != 'OUTCOME_OK':\n",
    "            display(Markdown(f'## Status {part.code_execution_result.outcome}'))\n",
    "\n",
    "        display(Markdown(f'```\\n{part.code_execution_result.output}\\n```'))"
   ]
  },
  {
   "cell_type": "markdown",
   "id": "d2b38190",
   "metadata": {
    "id": "1gUX8QzCj4d5",
    "papermill": {
     "duration": 0.01549,
     "end_time": "2025-04-01T22:59:04.416957",
     "exception": false,
     "start_time": "2025-04-01T22:59:04.401467",
     "status": "completed"
    },
    "tags": []
   },
   "source": [
    "### Explaining code\n",
    "\n",
    "The Gemini family of models can explain code to you too. In this example, you pass a [bash script](https://github.com/magicmonty/bash-git-prompt) and ask some questions.\n",
    "\n",
    "<table align=left>\n",
    "  <td>\n",
    "    <a target=\"_blank\" href=\"https://aistudio.google.com/prompts/1N7LGzWzCYieyOf_7bAG4plrmkpDNmUyb\"><img src=\"https://ai.google.dev/site-assets/images/marketing/home/icon-ais.png\" style=\"height: 24px\" height=24/> Open in AI Studio</a>\n",
    "  </td>\n",
    "</table>"
   ]
  },
  {
   "cell_type": "code",
   "execution_count": 32,
   "id": "83c1ea05",
   "metadata": {
    "execution": {
     "iopub.execute_input": "2025-04-01T22:59:04.449995Z",
     "iopub.status.busy": "2025-04-01T22:59:04.449592Z",
     "iopub.status.idle": "2025-04-01T22:59:07.023059Z",
     "shell.execute_reply": "2025-04-01T22:59:07.021937Z"
    },
    "id": "7_jPMMoxkIEb",
    "papermill": {
     "duration": 2.592954,
     "end_time": "2025-04-01T22:59:07.025533",
     "exception": false,
     "start_time": "2025-04-01T22:59:04.432579",
     "status": "completed"
    },
    "tags": []
   },
   "outputs": [
    {
     "data": {
      "text/markdown": [
       "This file is a Bash/Zsh script designed to enhance your command-line prompt with information about the current Git repository.  In other words, it makes your terminal prompt \"Git-aware\".\n",
       "\n",
       "Here's a breakdown:\n",
       "\n",
       "*   **What it does:**  This script dynamically updates your command prompt to display information about the Git repository you're currently working in.  This information typically includes the branch name, status of your working directory (e.g., if there are uncommitted changes, staged files, conflicts, etc.), and the relationship to the remote repository (e.g., ahead, behind).\n",
       "\n",
       "*   **Why use it:**\n",
       "    *   **At-a-glance Git status:**  You can quickly see the status of your Git repository without having to run `git status` every time. This improves your workflow.\n",
       "    *   **Increased awareness:** It helps you stay aware of the state of your Git repository, reducing the risk of accidentally committing incorrect changes or losing work.\n",
       "    *   **Customization:** It offers customization options to tailor the prompt's appearance and information displayed to your preferences.  You can change colors, symbols, and the specific details that are shown.\n",
       "    *   **Virtual Environment awareness:** Displays your virtual environment name in the prompt.\n",
       "    *   **Cross-shell compatibility:** Works on bash and zsh.\n",
       "\n",
       "In short, this script makes your command prompt more informative and Git-centric, making it easier to manage your Git repositories from the command line. You would typically source this script in your `.bashrc` or `.zshrc` file so that it runs every time you open a new terminal.\n"
      ],
      "text/plain": [
       "<IPython.core.display.Markdown object>"
      ]
     },
     "execution_count": 32,
     "metadata": {},
     "output_type": "execute_result"
    }
   ],
   "source": [
    "file_contents = !curl https://raw.githubusercontent.com/magicmonty/bash-git-prompt/refs/heads/master/gitprompt.sh\n",
    "\n",
    "explain_prompt = f\"\"\"\n",
    "Please explain what this file does at a very high level. What is it, and why would I use it?\n",
    "\n",
    "```\n",
    "{file_contents}\n",
    "```\n",
    "\"\"\"\n",
    "\n",
    "response = client.models.generate_content(\n",
    "    model='gemini-2.0-flash',\n",
    "    contents=explain_prompt)\n",
    "\n",
    "Markdown(response.text)"
   ]
  },
  {
   "cell_type": "markdown",
   "id": "e0a9f014",
   "metadata": {
    "id": "2a8266d97ce5",
    "papermill": {
     "duration": 0.015475,
     "end_time": "2025-04-01T22:59:07.057177",
     "exception": false,
     "start_time": "2025-04-01T22:59:07.041702",
     "status": "completed"
    },
    "tags": []
   },
   "source": [
    "## Learn more\n",
    "\n",
    "To learn more about prompting in depth:\n",
    "\n",
    "* Check out the whitepaper issued with today's content,\n",
    "* Try out the apps listed at the top of this notebook ([TextFX](https://textfx.withgoogle.com/), [SQL Talk](https://sql-talk-r5gdynozbq-uc.a.run.app/) and [NotebookLM](https://notebooklm.google/)),\n",
    "* Read the [Introduction to Prompting](https://ai.google.dev/gemini-api/docs/prompting-intro) from the Gemini API docs,\n",
    "* Explore the Gemini API's [prompt gallery](https://ai.google.dev/gemini-api/prompts) and try them out in AI Studio,\n",
    "* Check out the Gemini API cookbook for [inspirational examples](https://github.com/google-gemini/cookbook/blob/main/examples/) and [educational quickstarts](https://github.com/google-gemini/cookbook/blob/main/quickstarts/).\n",
    "\n",
    "Be sure to check out the codelabs on day 3 too, where you will explore some more advanced prompting with code execution.\n",
    "\n",
    "And please share anything exciting you have tried in the Discord!\n",
    "\n",
    "*- [Mark McD](https://linktr.ee/markmcd)*"
   ]
  }
 ],
 "metadata": {
  "colab": {
   "name": "day-1-prompting.ipynb",
   "toc_visible": true
  },
  "kaggle": {
   "accelerator": "none",
   "dataSources": [],
   "dockerImageVersionId": 30786,
   "isGpuEnabled": false,
   "isInternetEnabled": true,
   "language": "python",
   "sourceType": "notebook"
  },
  "kernelspec": {
   "display_name": "Python 3",
   "language": "python",
   "name": "python3"
  },
  "language_info": {
   "codemirror_mode": {
    "name": "ipython",
    "version": 3
   },
   "file_extension": ".py",
   "mimetype": "text/x-python",
   "name": "python",
   "nbconvert_exporter": "python",
   "pygments_lexer": "ipython3",
   "version": "3.10.14"
  },
  "papermill": {
   "default_parameters": {},
   "duration": 96.549085,
   "end_time": "2025-04-01T22:59:07.694070",
   "environment_variables": {},
   "exception": null,
   "input_path": "__notebook__.ipynb",
   "output_path": "__notebook__.ipynb",
   "parameters": {},
   "start_time": "2025-04-01T22:57:31.144985",
   "version": "2.6.0"
  }
 },
 "nbformat": 4,
 "nbformat_minor": 5
}
